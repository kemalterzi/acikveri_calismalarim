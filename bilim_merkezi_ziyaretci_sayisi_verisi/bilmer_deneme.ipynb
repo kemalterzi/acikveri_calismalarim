{
 "cells": [
  {
   "cell_type": "code",
   "execution_count": 1,
   "metadata": {},
   "outputs": [],
   "source": [
    "import pandas as pd\n",
    "import numpy as np"
   ]
  },
  {
   "cell_type": "code",
   "execution_count": 2,
   "metadata": {},
   "outputs": [],
   "source": [
    "bilmer=pd.read_excel(r'C:\\Users\\terzi\\Desktop\\TEMİZ\\bilim_merkezi_ziyaretci_sayisi_verisi\\bilmer22_temizlendi.xlsx')"
   ]
  },
  {
   "cell_type": "code",
   "execution_count": 11,
   "metadata": {},
   "outputs": [
    {
     "name": "stdout",
     "output_type": "stream",
     "text": [
      "<class 'pandas.core.frame.DataFrame'>\n",
      "RangeIndex: 74 entries, 0 to 73\n",
      "Data columns (total 4 columns):\n",
      " #   Column                      Non-Null Count  Dtype         \n",
      "---  ------                      --------------  -----         \n",
      " 0   ay_yil                      74 non-null     datetime64[ns]\n",
      " 1   randevulu_ziyaretci_sayisi  74 non-null     int64         \n",
      " 2   serbest_ziyaretci_sayisi    74 non-null     int64         \n",
      " 3   toplam_ziyaretci_sayisi     74 non-null     int64         \n",
      "dtypes: datetime64[ns](1), int64(3)\n",
      "memory usage: 2.4 KB\n"
     ]
    }
   ],
   "source": [
    "bilmer.info()"
   ]
  },
  {
   "cell_type": "code",
   "execution_count": 10,
   "metadata": {},
   "outputs": [
    {
     "data": {
      "text/html": [
       "<div>\n",
       "<style scoped>\n",
       "    .dataframe tbody tr th:only-of-type {\n",
       "        vertical-align: middle;\n",
       "    }\n",
       "\n",
       "    .dataframe tbody tr th {\n",
       "        vertical-align: top;\n",
       "    }\n",
       "\n",
       "    .dataframe thead th {\n",
       "        text-align: right;\n",
       "    }\n",
       "</style>\n",
       "<table border=\"1\" class=\"dataframe\">\n",
       "  <thead>\n",
       "    <tr style=\"text-align: right;\">\n",
       "      <th></th>\n",
       "      <th>ay_yil</th>\n",
       "      <th>randevulu_ziyaretci_sayisi</th>\n",
       "      <th>serbest_ziyaretci_sayisi</th>\n",
       "      <th>toplam_ziyaretci_sayisi</th>\n",
       "    </tr>\n",
       "  </thead>\n",
       "  <tbody>\n",
       "    <tr>\n",
       "      <th>0</th>\n",
       "      <td>2015-01-01</td>\n",
       "      <td>1624</td>\n",
       "      <td>5046</td>\n",
       "      <td>6670</td>\n",
       "    </tr>\n",
       "    <tr>\n",
       "      <th>1</th>\n",
       "      <td>2015-02-01</td>\n",
       "      <td>2692</td>\n",
       "      <td>2065</td>\n",
       "      <td>4757</td>\n",
       "    </tr>\n",
       "    <tr>\n",
       "      <th>2</th>\n",
       "      <td>2015-03-01</td>\n",
       "      <td>9575</td>\n",
       "      <td>23304</td>\n",
       "      <td>32879</td>\n",
       "    </tr>\n",
       "    <tr>\n",
       "      <th>3</th>\n",
       "      <td>2015-04-01</td>\n",
       "      <td>12221</td>\n",
       "      <td>22665</td>\n",
       "      <td>34886</td>\n",
       "    </tr>\n",
       "    <tr>\n",
       "      <th>4</th>\n",
       "      <td>2015-05-01</td>\n",
       "      <td>12291</td>\n",
       "      <td>83752</td>\n",
       "      <td>96043</td>\n",
       "    </tr>\n",
       "  </tbody>\n",
       "</table>\n",
       "</div>"
      ],
      "text/plain": [
       "      ay_yil  randevulu_ziyaretci_sayisi  serbest_ziyaretci_sayisi  \\\n",
       "0 2015-01-01                        1624                      5046   \n",
       "1 2015-02-01                        2692                      2065   \n",
       "2 2015-03-01                        9575                     23304   \n",
       "3 2015-04-01                       12221                     22665   \n",
       "4 2015-05-01                       12291                     83752   \n",
       "\n",
       "   toplam_ziyaretci_sayisi  \n",
       "0                     6670  \n",
       "1                     4757  \n",
       "2                    32879  \n",
       "3                    34886  \n",
       "4                    96043  "
      ]
     },
     "execution_count": 10,
     "metadata": {},
     "output_type": "execute_result"
    }
   ],
   "source": [
    "bilmer.head()"
   ]
  },
  {
   "cell_type": "code",
   "execution_count": 9,
   "metadata": {},
   "outputs": [
    {
     "data": {
      "text/plain": [
       "pandas._libs.tslibs.timestamps.Timestamp"
      ]
     },
     "execution_count": 9,
     "metadata": {},
     "output_type": "execute_result"
    }
   ],
   "source": [
    "type(bilmer[\"ay_yil\"][0])"
   ]
  },
  {
   "cell_type": "code",
   "execution_count": 16,
   "metadata": {},
   "outputs": [],
   "source": [
    "bilmer.to_csv(r'C:\\Users\\terzi\\Desktop\\TEMİZ\\bilim_merkezi_ziyaretci_sayisi_verisi\\bilmer22_temizlendi_deneme.csv', index=False)"
   ]
  },
  {
   "cell_type": "code",
   "execution_count": 17,
   "metadata": {},
   "outputs": [],
   "source": [
    "bilmer2=pd.read_csv(r'C:\\Users\\terzi\\Desktop\\TEMİZ\\bilim_merkezi_ziyaretci_sayisi_verisi\\bilmer22_temizlendi_deneme.csv')"
   ]
  },
  {
   "cell_type": "code",
   "execution_count": 18,
   "metadata": {},
   "outputs": [
    {
     "name": "stdout",
     "output_type": "stream",
     "text": [
      "<class 'pandas.core.frame.DataFrame'>\n",
      "RangeIndex: 74 entries, 0 to 73\n",
      "Data columns (total 4 columns):\n",
      " #   Column                      Non-Null Count  Dtype \n",
      "---  ------                      --------------  ----- \n",
      " 0   ay_yil                      74 non-null     object\n",
      " 1   randevulu_ziyaretci_sayisi  74 non-null     int64 \n",
      " 2   serbest_ziyaretci_sayisi    74 non-null     int64 \n",
      " 3   toplam_ziyaretci_sayisi     74 non-null     int64 \n",
      "dtypes: int64(3), object(1)\n",
      "memory usage: 2.4+ KB\n"
     ]
    }
   ],
   "source": [
    "bilmer2.info()"
   ]
  },
  {
   "cell_type": "code",
   "execution_count": 19,
   "metadata": {},
   "outputs": [
    {
     "data": {
      "text/html": [
       "<div>\n",
       "<style scoped>\n",
       "    .dataframe tbody tr th:only-of-type {\n",
       "        vertical-align: middle;\n",
       "    }\n",
       "\n",
       "    .dataframe tbody tr th {\n",
       "        vertical-align: top;\n",
       "    }\n",
       "\n",
       "    .dataframe thead th {\n",
       "        text-align: right;\n",
       "    }\n",
       "</style>\n",
       "<table border=\"1\" class=\"dataframe\">\n",
       "  <thead>\n",
       "    <tr style=\"text-align: right;\">\n",
       "      <th></th>\n",
       "      <th>ay_yil</th>\n",
       "      <th>randevulu_ziyaretci_sayisi</th>\n",
       "      <th>serbest_ziyaretci_sayisi</th>\n",
       "      <th>toplam_ziyaretci_sayisi</th>\n",
       "    </tr>\n",
       "  </thead>\n",
       "  <tbody>\n",
       "    <tr>\n",
       "      <th>0</th>\n",
       "      <td>2015-01-01</td>\n",
       "      <td>1624</td>\n",
       "      <td>5046</td>\n",
       "      <td>6670</td>\n",
       "    </tr>\n",
       "    <tr>\n",
       "      <th>1</th>\n",
       "      <td>2015-02-01</td>\n",
       "      <td>2692</td>\n",
       "      <td>2065</td>\n",
       "      <td>4757</td>\n",
       "    </tr>\n",
       "    <tr>\n",
       "      <th>2</th>\n",
       "      <td>2015-03-01</td>\n",
       "      <td>9575</td>\n",
       "      <td>23304</td>\n",
       "      <td>32879</td>\n",
       "    </tr>\n",
       "    <tr>\n",
       "      <th>3</th>\n",
       "      <td>2015-04-01</td>\n",
       "      <td>12221</td>\n",
       "      <td>22665</td>\n",
       "      <td>34886</td>\n",
       "    </tr>\n",
       "    <tr>\n",
       "      <th>4</th>\n",
       "      <td>2015-05-01</td>\n",
       "      <td>12291</td>\n",
       "      <td>83752</td>\n",
       "      <td>96043</td>\n",
       "    </tr>\n",
       "  </tbody>\n",
       "</table>\n",
       "</div>"
      ],
      "text/plain": [
       "       ay_yil  randevulu_ziyaretci_sayisi  serbest_ziyaretci_sayisi  \\\n",
       "0  2015-01-01                        1624                      5046   \n",
       "1  2015-02-01                        2692                      2065   \n",
       "2  2015-03-01                        9575                     23304   \n",
       "3  2015-04-01                       12221                     22665   \n",
       "4  2015-05-01                       12291                     83752   \n",
       "\n",
       "   toplam_ziyaretci_sayisi  \n",
       "0                     6670  \n",
       "1                     4757  \n",
       "2                    32879  \n",
       "3                    34886  \n",
       "4                    96043  "
      ]
     },
     "execution_count": 19,
     "metadata": {},
     "output_type": "execute_result"
    }
   ],
   "source": [
    "bilmer2.head()"
   ]
  },
  {
   "cell_type": "code",
   "execution_count": 20,
   "metadata": {},
   "outputs": [
    {
     "data": {
      "text/plain": [
       "str"
      ]
     },
     "execution_count": 20,
     "metadata": {},
     "output_type": "execute_result"
    }
   ],
   "source": [
    "type(bilmer2[\"ay_yil\"][0])"
   ]
  }
 ],
 "metadata": {
  "kernelspec": {
   "display_name": "Python 3",
   "language": "python",
   "name": "python3"
  },
  "language_info": {
   "codemirror_mode": {
    "name": "ipython",
    "version": 3
   },
   "file_extension": ".py",
   "mimetype": "text/x-python",
   "name": "python",
   "nbconvert_exporter": "python",
   "pygments_lexer": "ipython3",
   "version": "3.11.0"
  },
  "orig_nbformat": 4,
  "vscode": {
   "interpreter": {
    "hash": "b7a34504438d411b94b6653491ae8a2fe1304757ace0c5755d517e708d91f0bc"
   }
  }
 },
 "nbformat": 4,
 "nbformat_minor": 2
}
