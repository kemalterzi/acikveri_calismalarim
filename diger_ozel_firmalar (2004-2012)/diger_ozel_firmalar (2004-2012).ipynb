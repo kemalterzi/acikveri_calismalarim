{
 "cells": [
  {
   "cell_type": "code",
   "execution_count": 21,
   "metadata": {},
   "outputs": [],
   "source": [
    "import pandas as pd\n",
    "import numpy as np"
   ]
  },
  {
   "cell_type": "code",
   "execution_count": 45,
   "metadata": {},
   "outputs": [],
   "source": [
    "diger_firmnalar_atik=pd.read_csv(r'C:\\Users\\terzi\\Desktop\\temizlenecekler\\diger_ozel_firmalar\\139_202203_digerozelfirmalar.csv', sep=';')"
   ]
  },
  {
   "cell_type": "code",
   "execution_count": 39,
   "metadata": {},
   "outputs": [
    {
     "name": "stdout",
     "output_type": "stream",
     "text": [
      "<class 'pandas.core.frame.DataFrame'>\n",
      "RangeIndex: 1856 entries, 0 to 1855\n",
      "Data columns (total 2 columns):\n",
      " #   Column                       Non-Null Count  Dtype         \n",
      "---  ------                       --------------  -----         \n",
      " 0   tarih                        1856 non-null   datetime64[ns]\n",
      " 1   toplanan atik miktari (Ton)  1856 non-null   int32         \n",
      "dtypes: datetime64[ns](1), int32(1)\n",
      "memory usage: 21.9 KB\n"
     ]
    }
   ],
   "source": [
    "diger_firmnalar_atik.info()"
   ]
  },
  {
   "cell_type": "code",
   "execution_count": 46,
   "metadata": {},
   "outputs": [],
   "source": [
    "diger_firmnalar_atik=diger_firmnalar_atik.drop(columns=[\"birim\"])"
   ]
  },
  {
   "cell_type": "code",
   "execution_count": 47,
   "metadata": {},
   "outputs": [],
   "source": [
    "diger_firmnalar_atik=diger_firmnalar_atik.rename(columns={\"deger\" : \"toplanan atik miktari (Ton)\"})"
   ]
  },
  {
   "cell_type": "code",
   "execution_count": 48,
   "metadata": {},
   "outputs": [],
   "source": [
    "diger_firmnalar_atik[\"tarih\"]=pd.to_datetime(diger_firmnalar_atik[\"tarih\"], format=\"%Y-%m-%d %H\")"
   ]
  },
  {
   "cell_type": "code",
   "execution_count": 49,
   "metadata": {},
   "outputs": [
    {
     "data": {
      "text/plain": [
       "pandas._libs.tslibs.timestamps.Timestamp"
      ]
     },
     "execution_count": 49,
     "metadata": {},
     "output_type": "execute_result"
    }
   ],
   "source": [
    "type(diger_firmnalar_atik[\"tarih\"][0])"
   ]
  },
  {
   "cell_type": "code",
   "execution_count": 50,
   "metadata": {},
   "outputs": [
    {
     "name": "stderr",
     "output_type": "stream",
     "text": [
      "C:\\Users\\terzi\\AppData\\Local\\Temp\\ipykernel_6024\\3420005832.py:1: FutureWarning: The default value of regex will change from True to False in a future version. In addition, single character regular expressions will *not* be treated as literal strings when regex=True.\n",
      "  diger_firmnalar_atik[\"toplanan atik miktari (Ton)\"]=diger_firmnalar_atik[\"toplanan atik miktari (Ton)\"].str.replace(\".\",\"\")\n"
     ]
    }
   ],
   "source": [
    "diger_firmnalar_atik[\"toplanan atik miktari (Ton)\"]=diger_firmnalar_atik[\"toplanan atik miktari (Ton)\"].str.replace(\".\",\"\")\n",
    "diger_firmnalar_atik[\"toplanan atik miktari (Ton)\"]=diger_firmnalar_atik[\"toplanan atik miktari (Ton)\"].str[:-3]"
   ]
  },
  {
   "cell_type": "code",
   "execution_count": 51,
   "metadata": {},
   "outputs": [],
   "source": [
    "diger_firmnalar_atik[\"toplanan atik miktari (Ton)\"]=diger_firmnalar_atik[\"toplanan atik miktari (Ton)\"].astype(int)"
   ]
  },
  {
   "cell_type": "code",
   "execution_count": 52,
   "metadata": {},
   "outputs": [
    {
     "data": {
      "text/plain": [
       "numpy.int32"
      ]
     },
     "execution_count": 52,
     "metadata": {},
     "output_type": "execute_result"
    }
   ],
   "source": [
    "type(diger_firmnalar_atik[\"toplanan atik miktari (Ton)\"][1])"
   ]
  },
  {
   "cell_type": "code",
   "execution_count": 57,
   "metadata": {},
   "outputs": [
    {
     "data": {
      "text/html": [
       "<div>\n",
       "<style scoped>\n",
       "    .dataframe tbody tr th:only-of-type {\n",
       "        vertical-align: middle;\n",
       "    }\n",
       "\n",
       "    .dataframe tbody tr th {\n",
       "        vertical-align: top;\n",
       "    }\n",
       "\n",
       "    .dataframe thead th {\n",
       "        text-align: right;\n",
       "    }\n",
       "</style>\n",
       "<table border=\"1\" class=\"dataframe\">\n",
       "  <thead>\n",
       "    <tr style=\"text-align: right;\">\n",
       "      <th></th>\n",
       "      <th>tarih</th>\n",
       "      <th>toplanan atik miktari (Ton)</th>\n",
       "    </tr>\n",
       "  </thead>\n",
       "  <tbody>\n",
       "    <tr>\n",
       "      <th>9</th>\n",
       "      <td>2013-01-01</td>\n",
       "      <td>38</td>\n",
       "    </tr>\n",
       "    <tr>\n",
       "      <th>10</th>\n",
       "      <td>2013-02-01</td>\n",
       "      <td>59</td>\n",
       "    </tr>\n",
       "    <tr>\n",
       "      <th>11</th>\n",
       "      <td>2013-03-01</td>\n",
       "      <td>42</td>\n",
       "    </tr>\n",
       "    <tr>\n",
       "      <th>12</th>\n",
       "      <td>2013-04-01</td>\n",
       "      <td>40</td>\n",
       "    </tr>\n",
       "    <tr>\n",
       "      <th>13</th>\n",
       "      <td>2013-05-01</td>\n",
       "      <td>45</td>\n",
       "    </tr>\n",
       "  </tbody>\n",
       "</table>\n",
       "</div>"
      ],
      "text/plain": [
       "        tarih  toplanan atik miktari (Ton)\n",
       "9  2013-01-01                           38\n",
       "10 2013-02-01                           59\n",
       "11 2013-03-01                           42\n",
       "12 2013-04-01                           40\n",
       "13 2013-05-01                           45"
      ]
     },
     "execution_count": 57,
     "metadata": {},
     "output_type": "execute_result"
    }
   ],
   "source": [
    "diger_firmnalar_atik.head()"
   ]
  },
  {
   "cell_type": "code",
   "execution_count": 40,
   "metadata": {},
   "outputs": [],
   "source": [
    "ilk9=diger_firmnalar_atik.head(9)"
   ]
  },
  {
   "cell_type": "code",
   "execution_count": 41,
   "metadata": {},
   "outputs": [],
   "source": [
    "ilk9.to_csv(r'C:\\Users\\terzi\\Desktop\\temizlenecekler\\diger_ozel_firmalar (2004-2012)\\diger_ozel_firmalar-(2004-2012).csv',index=False ,header=True)\n",
    "ilk9.to_excel(r'C:\\Users\\terzi\\Desktop\\temizlenecekler\\diger_ozel_firmalar (2004-2012)\\diger_ozel_firmalar-(2004-2012).xlsx',index=False ,header=True)"
   ]
  },
  {
   "cell_type": "code",
   "execution_count": 56,
   "metadata": {},
   "outputs": [],
   "source": [
    "diger_firmnalar_atik=diger_firmnalar_atik.drop(diger_firmnalar_atik.index[:9])"
   ]
  },
  {
   "cell_type": "code",
   "execution_count": 59,
   "metadata": {},
   "outputs": [],
   "source": [
    "diger_firmnalar_atik.to_csv(r'C:\\Users\\terzi\\Desktop\\temizlenecekler\\diger_ozel_firmalar\\diger_ozel_firmalar_temiz.csv',index=False ,header=True)\n",
    "diger_firmnalar_atik.to_excel(r'C:\\Users\\terzi\\Desktop\\temizlenecekler\\diger_ozel_firmalar\\diger_ozel_firmalar_temiz.xlsx',index=False ,header=True)"
   ]
  },
  {
   "cell_type": "code",
   "execution_count": null,
   "metadata": {},
   "outputs": [],
   "source": []
  }
 ],
 "metadata": {
  "kernelspec": {
   "display_name": "Python 3",
   "language": "python",
   "name": "python3"
  },
  "language_info": {
   "codemirror_mode": {
    "name": "ipython",
    "version": 3
   },
   "file_extension": ".py",
   "mimetype": "text/x-python",
   "name": "python",
   "nbconvert_exporter": "python",
   "pygments_lexer": "ipython3",
   "version": "3.11.0 (main, Oct 24 2022, 18:26:48) [MSC v.1933 64 bit (AMD64)]"
  },
  "orig_nbformat": 4,
  "vscode": {
   "interpreter": {
    "hash": "b7a34504438d411b94b6653491ae8a2fe1304757ace0c5755d517e708d91f0bc"
   }
  }
 },
 "nbformat": 4,
 "nbformat_minor": 2
}
