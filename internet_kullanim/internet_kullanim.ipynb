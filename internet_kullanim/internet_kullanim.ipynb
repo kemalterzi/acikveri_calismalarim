{
 "cells": [
  {
   "cell_type": "code",
   "execution_count": 1,
   "metadata": {},
   "outputs": [],
   "source": [
    "import pandas as pd\n",
    "import numpy as np"
   ]
  },
  {
   "cell_type": "code",
   "execution_count": 4,
   "metadata": {},
   "outputs": [],
   "source": [
    "internet_kullanim=pd.read_csv(r'C:\\Users\\terzi\\Desktop\\temizlenecekler\\internet_kullanim\\150_202203_internetkullanim.csv', sep=\";\")"
   ]
  },
  {
   "cell_type": "code",
   "execution_count": 26,
   "metadata": {},
   "outputs": [
    {
     "name": "stdout",
     "output_type": "stream",
     "text": [
      "<class 'pandas.core.frame.DataFrame'>\n",
      "RangeIndex: 14 entries, 0 to 13\n",
      "Data columns (total 7 columns):\n",
      " #   Column   Non-Null Count  Dtype         \n",
      "---  ------   --------------  -----         \n",
      " 0   tarih    14 non-null     datetime64[ns]\n",
      " 1   android  14 non-null     int64         \n",
      " 2   apple    14 non-null     int64         \n",
      " 3   windows  14 non-null     int64         \n",
      " 4   linux    14 non-null     int64         \n",
      " 5   unknown  14 non-null     int64         \n",
      " 6   toplam   14 non-null     int64         \n",
      "dtypes: datetime64[ns](1), int64(6)\n",
      "memory usage: 912.0 bytes\n"
     ]
    }
   ],
   "source": [
    "internet_kullanim.info()"
   ]
  },
  {
   "cell_type": "code",
   "execution_count": 19,
   "metadata": {},
   "outputs": [
    {
     "name": "stderr",
     "output_type": "stream",
     "text": [
      "C:\\Users\\terzi\\AppData\\Local\\Temp\\ipykernel_6200\\3192542180.py:1: SettingWithCopyWarning: \n",
      "A value is trying to be set on a copy of a slice from a DataFrame\n",
      "\n",
      "See the caveats in the documentation: https://pandas.pydata.org/pandas-docs/stable/user_guide/indexing.html#returning-a-view-versus-a-copy\n",
      "  internet_kullanim[\"tarih\"][0]=\"01 2021\"\n",
      "C:\\Users\\terzi\\AppData\\Local\\Temp\\ipykernel_6200\\3192542180.py:2: SettingWithCopyWarning: \n",
      "A value is trying to be set on a copy of a slice from a DataFrame\n",
      "\n",
      "See the caveats in the documentation: https://pandas.pydata.org/pandas-docs/stable/user_guide/indexing.html#returning-a-view-versus-a-copy\n",
      "  internet_kullanim[\"tarih\"][1]=\"02 2021\"\n",
      "C:\\Users\\terzi\\AppData\\Local\\Temp\\ipykernel_6200\\3192542180.py:3: SettingWithCopyWarning: \n",
      "A value is trying to be set on a copy of a slice from a DataFrame\n",
      "\n",
      "See the caveats in the documentation: https://pandas.pydata.org/pandas-docs/stable/user_guide/indexing.html#returning-a-view-versus-a-copy\n",
      "  internet_kullanim[\"tarih\"][2]=\"03 2021\"\n",
      "C:\\Users\\terzi\\AppData\\Local\\Temp\\ipykernel_6200\\3192542180.py:4: SettingWithCopyWarning: \n",
      "A value is trying to be set on a copy of a slice from a DataFrame\n",
      "\n",
      "See the caveats in the documentation: https://pandas.pydata.org/pandas-docs/stable/user_guide/indexing.html#returning-a-view-versus-a-copy\n",
      "  internet_kullanim[\"tarih\"][3]=\"04 2021\"\n",
      "C:\\Users\\terzi\\AppData\\Local\\Temp\\ipykernel_6200\\3192542180.py:5: SettingWithCopyWarning: \n",
      "A value is trying to be set on a copy of a slice from a DataFrame\n",
      "\n",
      "See the caveats in the documentation: https://pandas.pydata.org/pandas-docs/stable/user_guide/indexing.html#returning-a-view-versus-a-copy\n",
      "  internet_kullanim[\"tarih\"][4]=\"05 2021\"\n",
      "C:\\Users\\terzi\\AppData\\Local\\Temp\\ipykernel_6200\\3192542180.py:6: SettingWithCopyWarning: \n",
      "A value is trying to be set on a copy of a slice from a DataFrame\n",
      "\n",
      "See the caveats in the documentation: https://pandas.pydata.org/pandas-docs/stable/user_guide/indexing.html#returning-a-view-versus-a-copy\n",
      "  internet_kullanim[\"tarih\"][5]=\"06 2021\"\n",
      "C:\\Users\\terzi\\AppData\\Local\\Temp\\ipykernel_6200\\3192542180.py:7: SettingWithCopyWarning: \n",
      "A value is trying to be set on a copy of a slice from a DataFrame\n",
      "\n",
      "See the caveats in the documentation: https://pandas.pydata.org/pandas-docs/stable/user_guide/indexing.html#returning-a-view-versus-a-copy\n",
      "  internet_kullanim[\"tarih\"][6]=\"07 2021\"\n",
      "C:\\Users\\terzi\\AppData\\Local\\Temp\\ipykernel_6200\\3192542180.py:8: SettingWithCopyWarning: \n",
      "A value is trying to be set on a copy of a slice from a DataFrame\n",
      "\n",
      "See the caveats in the documentation: https://pandas.pydata.org/pandas-docs/stable/user_guide/indexing.html#returning-a-view-versus-a-copy\n",
      "  internet_kullanim[\"tarih\"][7]=\"08 2021\"\n",
      "C:\\Users\\terzi\\AppData\\Local\\Temp\\ipykernel_6200\\3192542180.py:9: SettingWithCopyWarning: \n",
      "A value is trying to be set on a copy of a slice from a DataFrame\n",
      "\n",
      "See the caveats in the documentation: https://pandas.pydata.org/pandas-docs/stable/user_guide/indexing.html#returning-a-view-versus-a-copy\n",
      "  internet_kullanim[\"tarih\"][8]=\"09 2021\"\n",
      "C:\\Users\\terzi\\AppData\\Local\\Temp\\ipykernel_6200\\3192542180.py:10: SettingWithCopyWarning: \n",
      "A value is trying to be set on a copy of a slice from a DataFrame\n",
      "\n",
      "See the caveats in the documentation: https://pandas.pydata.org/pandas-docs/stable/user_guide/indexing.html#returning-a-view-versus-a-copy\n",
      "  internet_kullanim[\"tarih\"][9]=\"10 2021\"\n",
      "C:\\Users\\terzi\\AppData\\Local\\Temp\\ipykernel_6200\\3192542180.py:11: SettingWithCopyWarning: \n",
      "A value is trying to be set on a copy of a slice from a DataFrame\n",
      "\n",
      "See the caveats in the documentation: https://pandas.pydata.org/pandas-docs/stable/user_guide/indexing.html#returning-a-view-versus-a-copy\n",
      "  internet_kullanim[\"tarih\"][10]=\"11 2021\"\n",
      "C:\\Users\\terzi\\AppData\\Local\\Temp\\ipykernel_6200\\3192542180.py:12: SettingWithCopyWarning: \n",
      "A value is trying to be set on a copy of a slice from a DataFrame\n",
      "\n",
      "See the caveats in the documentation: https://pandas.pydata.org/pandas-docs/stable/user_guide/indexing.html#returning-a-view-versus-a-copy\n",
      "  internet_kullanim[\"tarih\"][11]=\"12 2021\"\n",
      "C:\\Users\\terzi\\AppData\\Local\\Temp\\ipykernel_6200\\3192542180.py:13: SettingWithCopyWarning: \n",
      "A value is trying to be set on a copy of a slice from a DataFrame\n",
      "\n",
      "See the caveats in the documentation: https://pandas.pydata.org/pandas-docs/stable/user_guide/indexing.html#returning-a-view-versus-a-copy\n",
      "  internet_kullanim[\"tarih\"][12]=\"01 2022\"\n",
      "C:\\Users\\terzi\\AppData\\Local\\Temp\\ipykernel_6200\\3192542180.py:14: SettingWithCopyWarning: \n",
      "A value is trying to be set on a copy of a slice from a DataFrame\n",
      "\n",
      "See the caveats in the documentation: https://pandas.pydata.org/pandas-docs/stable/user_guide/indexing.html#returning-a-view-versus-a-copy\n",
      "  internet_kullanim[\"tarih\"][13]=\"02 2022\"\n"
     ]
    }
   ],
   "source": [
    "internet_kullanim[\"tarih\"][0]=\"01 2021\"\n",
    "internet_kullanim[\"tarih\"][1]=\"02 2021\"\n",
    "internet_kullanim[\"tarih\"][2]=\"03 2021\"\n",
    "internet_kullanim[\"tarih\"][3]=\"04 2021\"\n",
    "internet_kullanim[\"tarih\"][4]=\"05 2021\"\n",
    "internet_kullanim[\"tarih\"][5]=\"06 2021\"\n",
    "internet_kullanim[\"tarih\"][6]=\"07 2021\"\n",
    "internet_kullanim[\"tarih\"][7]=\"08 2021\"\n",
    "internet_kullanim[\"tarih\"][8]=\"09 2021\"\n",
    "internet_kullanim[\"tarih\"][9]=\"10 2021\"\n",
    "internet_kullanim[\"tarih\"][10]=\"11 2021\"\n",
    "internet_kullanim[\"tarih\"][11]=\"12 2021\"\n",
    "internet_kullanim[\"tarih\"][12]=\"01 2022\"\n",
    "internet_kullanim[\"tarih\"][13]=\"02 2022\""
   ]
  },
  {
   "cell_type": "code",
   "execution_count": 27,
   "metadata": {},
   "outputs": [],
   "source": [
    "internet_kullanim=internet_kullanim.rename(columns={\"apple\" : \"ios-macos\"})"
   ]
  },
  {
   "cell_type": "code",
   "execution_count": 33,
   "metadata": {},
   "outputs": [],
   "source": [
    "internet_kullanim=internet_kullanim.rename(columns={\"bilinmeyen\" : \"belirsiz\"})"
   ]
  },
  {
   "cell_type": "code",
   "execution_count": 14,
   "metadata": {},
   "outputs": [],
   "source": [
    "internet_kullanim=internet_kullanim.drop(columns=\"unnamed:_7\")"
   ]
  },
  {
   "cell_type": "code",
   "execution_count": 16,
   "metadata": {},
   "outputs": [],
   "source": [
    "internet_kullanim=internet_kullanim.drop(columns=\"unnamed:_8\")"
   ]
  },
  {
   "cell_type": "code",
   "execution_count": 21,
   "metadata": {},
   "outputs": [],
   "source": [
    "internet_kullanim[\"tarih\"]=pd.to_datetime(internet_kullanim[\"tarih\"], format=\"%m %Y\")"
   ]
  },
  {
   "cell_type": "code",
   "execution_count": 25,
   "metadata": {},
   "outputs": [
    {
     "data": {
      "text/plain": [
       "0     True\n",
       "1     True\n",
       "2     True\n",
       "3     True\n",
       "4     True\n",
       "5     True\n",
       "6     True\n",
       "7     True\n",
       "8     True\n",
       "9     True\n",
       "10    True\n",
       "11    True\n",
       "12    True\n",
       "13    True\n",
       "dtype: bool"
      ]
     },
     "execution_count": 25,
     "metadata": {},
     "output_type": "execute_result"
    }
   ],
   "source": [
    "a=internet_kullanim[\"android\"]\n",
    "b=internet_kullanim[\"apple\"]\n",
    "c=internet_kullanim[\"windows\"]\n",
    "d=internet_kullanim[\"linux\"]\n",
    "e=internet_kullanim[\"unknown\"]\n",
    "f=internet_kullanim[\"toplam\"]\n",
    "\n",
    "a+b+c+d+e==f"
   ]
  },
  {
   "cell_type": "code",
   "execution_count": 34,
   "metadata": {},
   "outputs": [
    {
     "data": {
      "text/html": [
       "<div>\n",
       "<style scoped>\n",
       "    .dataframe tbody tr th:only-of-type {\n",
       "        vertical-align: middle;\n",
       "    }\n",
       "\n",
       "    .dataframe tbody tr th {\n",
       "        vertical-align: top;\n",
       "    }\n",
       "\n",
       "    .dataframe thead th {\n",
       "        text-align: right;\n",
       "    }\n",
       "</style>\n",
       "<table border=\"1\" class=\"dataframe\">\n",
       "  <thead>\n",
       "    <tr style=\"text-align: right;\">\n",
       "      <th></th>\n",
       "      <th>tarih</th>\n",
       "      <th>android</th>\n",
       "      <th>ios-macos</th>\n",
       "      <th>windows</th>\n",
       "      <th>linux</th>\n",
       "      <th>belirsiz</th>\n",
       "      <th>toplam</th>\n",
       "    </tr>\n",
       "  </thead>\n",
       "  <tbody>\n",
       "    <tr>\n",
       "      <th>0</th>\n",
       "      <td>2021-01-01</td>\n",
       "      <td>1528</td>\n",
       "      <td>320</td>\n",
       "      <td>108</td>\n",
       "      <td>2</td>\n",
       "      <td>0</td>\n",
       "      <td>1958</td>\n",
       "    </tr>\n",
       "    <tr>\n",
       "      <th>1</th>\n",
       "      <td>2021-02-01</td>\n",
       "      <td>1861</td>\n",
       "      <td>360</td>\n",
       "      <td>88</td>\n",
       "      <td>2</td>\n",
       "      <td>0</td>\n",
       "      <td>2311</td>\n",
       "    </tr>\n",
       "    <tr>\n",
       "      <th>2</th>\n",
       "      <td>2021-03-01</td>\n",
       "      <td>2196</td>\n",
       "      <td>463</td>\n",
       "      <td>171</td>\n",
       "      <td>6</td>\n",
       "      <td>1</td>\n",
       "      <td>2837</td>\n",
       "    </tr>\n",
       "    <tr>\n",
       "      <th>3</th>\n",
       "      <td>2021-04-01</td>\n",
       "      <td>1882</td>\n",
       "      <td>385</td>\n",
       "      <td>126</td>\n",
       "      <td>2</td>\n",
       "      <td>0</td>\n",
       "      <td>2395</td>\n",
       "    </tr>\n",
       "    <tr>\n",
       "      <th>4</th>\n",
       "      <td>2021-05-01</td>\n",
       "      <td>1813</td>\n",
       "      <td>358</td>\n",
       "      <td>87</td>\n",
       "      <td>4</td>\n",
       "      <td>0</td>\n",
       "      <td>2262</td>\n",
       "    </tr>\n",
       "    <tr>\n",
       "      <th>5</th>\n",
       "      <td>2021-06-01</td>\n",
       "      <td>2692</td>\n",
       "      <td>565</td>\n",
       "      <td>176</td>\n",
       "      <td>1</td>\n",
       "      <td>1</td>\n",
       "      <td>3435</td>\n",
       "    </tr>\n",
       "    <tr>\n",
       "      <th>6</th>\n",
       "      <td>2021-07-01</td>\n",
       "      <td>3204</td>\n",
       "      <td>744</td>\n",
       "      <td>141</td>\n",
       "      <td>2</td>\n",
       "      <td>0</td>\n",
       "      <td>4091</td>\n",
       "    </tr>\n",
       "    <tr>\n",
       "      <th>7</th>\n",
       "      <td>2021-08-01</td>\n",
       "      <td>2469</td>\n",
       "      <td>685</td>\n",
       "      <td>122</td>\n",
       "      <td>0</td>\n",
       "      <td>1</td>\n",
       "      <td>3277</td>\n",
       "    </tr>\n",
       "    <tr>\n",
       "      <th>8</th>\n",
       "      <td>2021-09-01</td>\n",
       "      <td>3160</td>\n",
       "      <td>600</td>\n",
       "      <td>112</td>\n",
       "      <td>2</td>\n",
       "      <td>0</td>\n",
       "      <td>3874</td>\n",
       "    </tr>\n",
       "    <tr>\n",
       "      <th>9</th>\n",
       "      <td>2021-10-01</td>\n",
       "      <td>4149</td>\n",
       "      <td>805</td>\n",
       "      <td>689</td>\n",
       "      <td>1</td>\n",
       "      <td>0</td>\n",
       "      <td>5644</td>\n",
       "    </tr>\n",
       "    <tr>\n",
       "      <th>10</th>\n",
       "      <td>2021-11-01</td>\n",
       "      <td>4087</td>\n",
       "      <td>738</td>\n",
       "      <td>854</td>\n",
       "      <td>0</td>\n",
       "      <td>1</td>\n",
       "      <td>5680</td>\n",
       "    </tr>\n",
       "    <tr>\n",
       "      <th>11</th>\n",
       "      <td>2021-12-01</td>\n",
       "      <td>3871</td>\n",
       "      <td>691</td>\n",
       "      <td>668</td>\n",
       "      <td>2</td>\n",
       "      <td>0</td>\n",
       "      <td>5232</td>\n",
       "    </tr>\n",
       "    <tr>\n",
       "      <th>12</th>\n",
       "      <td>2022-01-01</td>\n",
       "      <td>3568</td>\n",
       "      <td>637</td>\n",
       "      <td>573</td>\n",
       "      <td>1</td>\n",
       "      <td>0</td>\n",
       "      <td>4779</td>\n",
       "    </tr>\n",
       "    <tr>\n",
       "      <th>13</th>\n",
       "      <td>2022-02-01</td>\n",
       "      <td>3331</td>\n",
       "      <td>526</td>\n",
       "      <td>805</td>\n",
       "      <td>2</td>\n",
       "      <td>0</td>\n",
       "      <td>4664</td>\n",
       "    </tr>\n",
       "  </tbody>\n",
       "</table>\n",
       "</div>"
      ],
      "text/plain": [
       "        tarih  android  ios-macos  windows  linux  belirsiz  toplam\n",
       "0  2021-01-01     1528        320      108      2         0    1958\n",
       "1  2021-02-01     1861        360       88      2         0    2311\n",
       "2  2021-03-01     2196        463      171      6         1    2837\n",
       "3  2021-04-01     1882        385      126      2         0    2395\n",
       "4  2021-05-01     1813        358       87      4         0    2262\n",
       "5  2021-06-01     2692        565      176      1         1    3435\n",
       "6  2021-07-01     3204        744      141      2         0    4091\n",
       "7  2021-08-01     2469        685      122      0         1    3277\n",
       "8  2021-09-01     3160        600      112      2         0    3874\n",
       "9  2021-10-01     4149        805      689      1         0    5644\n",
       "10 2021-11-01     4087        738      854      0         1    5680\n",
       "11 2021-12-01     3871        691      668      2         0    5232\n",
       "12 2022-01-01     3568        637      573      1         0    4779\n",
       "13 2022-02-01     3331        526      805      2         0    4664"
      ]
     },
     "execution_count": 34,
     "metadata": {},
     "output_type": "execute_result"
    }
   ],
   "source": [
    "internet_kullanim.head(20)"
   ]
  },
  {
   "cell_type": "code",
   "execution_count": 35,
   "metadata": {},
   "outputs": [],
   "source": [
    "internet_kullanim.to_csv(r'C:\\Users\\terzi\\Desktop\\temizlenecekler\\internet_kullanim\\internet_kullanim_temiz.csv',header=True ,index=False)\n",
    "internet_kullanim.to_excel(r'C:\\Users\\terzi\\Desktop\\temizlenecekler\\internet_kullanim\\internet_kullanim_temiz.xlsx',header=True ,index=False)"
   ]
  },
  {
   "cell_type": "code",
   "execution_count": null,
   "metadata": {},
   "outputs": [],
   "source": []
  }
 ],
 "metadata": {
  "kernelspec": {
   "display_name": "Python 3",
   "language": "python",
   "name": "python3"
  },
  "language_info": {
   "codemirror_mode": {
    "name": "ipython",
    "version": 3
   },
   "file_extension": ".py",
   "mimetype": "text/x-python",
   "name": "python",
   "nbconvert_exporter": "python",
   "pygments_lexer": "ipython3",
   "version": "3.11.0"
  },
  "orig_nbformat": 4,
  "vscode": {
   "interpreter": {
    "hash": "b7a34504438d411b94b6653491ae8a2fe1304757ace0c5755d517e708d91f0bc"
   }
  }
 },
 "nbformat": 4,
 "nbformat_minor": 2
}
