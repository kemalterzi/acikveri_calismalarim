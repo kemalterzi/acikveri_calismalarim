{
 "cells": [
  {
   "cell_type": "code",
   "execution_count": 1,
   "metadata": {},
   "outputs": [],
   "source": [
    "import pandas as pd\n",
    "import numpy as np"
   ]
  },
  {
   "cell_type": "code",
   "execution_count": 2,
   "metadata": {},
   "outputs": [],
   "source": [
    "atik_meram=pd.read_excel(r\"C:\\Users\\terzi\\Desktop\\temizlenecekler\\toplanan_atik_miktari_meram\\toplananatikmiktari_meram_temiz.xlsx\")"
   ]
  },
  {
   "cell_type": "code",
   "execution_count": 21,
   "metadata": {},
   "outputs": [
    {
     "data": {
      "text/html": [
       "<div>\n",
       "<style scoped>\n",
       "    .dataframe tbody tr th:only-of-type {\n",
       "        vertical-align: middle;\n",
       "    }\n",
       "\n",
       "    .dataframe tbody tr th {\n",
       "        vertical-align: top;\n",
       "    }\n",
       "\n",
       "    .dataframe thead th {\n",
       "        text-align: right;\n",
       "    }\n",
       "</style>\n",
       "<table border=\"1\" class=\"dataframe\">\n",
       "  <thead>\n",
       "    <tr style=\"text-align: right;\">\n",
       "      <th></th>\n",
       "      <th>tarih</th>\n",
       "      <th>toplanan atik miktari (Ton)</th>\n",
       "    </tr>\n",
       "  </thead>\n",
       "  <tbody>\n",
       "    <tr>\n",
       "      <th>9</th>\n",
       "      <td>2013-01-01</td>\n",
       "      <td>442</td>\n",
       "    </tr>\n",
       "    <tr>\n",
       "      <th>10</th>\n",
       "      <td>2013-02-01</td>\n",
       "      <td>387</td>\n",
       "    </tr>\n",
       "    <tr>\n",
       "      <th>11</th>\n",
       "      <td>2013-03-01</td>\n",
       "      <td>366</td>\n",
       "    </tr>\n",
       "    <tr>\n",
       "      <th>12</th>\n",
       "      <td>2013-04-01</td>\n",
       "      <td>347</td>\n",
       "    </tr>\n",
       "    <tr>\n",
       "      <th>13</th>\n",
       "      <td>2013-05-01</td>\n",
       "      <td>344</td>\n",
       "    </tr>\n",
       "  </tbody>\n",
       "</table>\n",
       "</div>"
      ],
      "text/plain": [
       "        tarih  toplanan atik miktari (Ton)\n",
       "9  2013-01-01                          442\n",
       "10 2013-02-01                          387\n",
       "11 2013-03-01                          366\n",
       "12 2013-04-01                          347\n",
       "13 2013-05-01                          344"
      ]
     },
     "execution_count": 21,
     "metadata": {},
     "output_type": "execute_result"
    }
   ],
   "source": [
    "atik_meram.head()"
   ]
  },
  {
   "cell_type": "code",
   "execution_count": 13,
   "metadata": {},
   "outputs": [],
   "source": [
    "ilk9=atik_meram.head(9)"
   ]
  },
  {
   "cell_type": "code",
   "execution_count": 19,
   "metadata": {},
   "outputs": [],
   "source": [
    "ilk9.to_csv(r'C:\\Users\\terzi\\Desktop\\temizlenecekler\\toplanan_atik_miktari_meram (2004-2012)\\toplanan_atik_miktari_meram-(2004-2012).csv',index=False, header=True)\n",
    "ilk9.to_excel(r'C:\\Users\\terzi\\Desktop\\temizlenecekler\\toplanan_atik_miktari_meram (2004-2012)\\toplanan_atik_miktari_meram-(2004-2012).xlsx',index=False, header=True)"
   ]
  },
  {
   "cell_type": "code",
   "execution_count": 20,
   "metadata": {},
   "outputs": [],
   "source": [
    "atik_meram=atik_meram.drop(atik_meram.index[:9])"
   ]
  },
  {
   "cell_type": "code",
   "execution_count": 24,
   "metadata": {},
   "outputs": [],
   "source": [
    "atik_meram.to_csv(r'C:\\Users\\terzi\\Desktop\\temizlenecekler\\toplanan_atik_miktari_meram\\toplananatikmiktari_meram_temiz.csv',index=False, header=True)\n",
    "atik_meram.to_excel(r'C:\\Users\\terzi\\Desktop\\temizlenecekler\\toplanan_atik_miktari_meram\\toplananatikmiktari_meram_temiz.xlsx',index=False, header=True)"
   ]
  },
  {
   "cell_type": "code",
   "execution_count": null,
   "metadata": {},
   "outputs": [],
   "source": []
  }
 ],
 "metadata": {
  "kernelspec": {
   "display_name": "Python 3",
   "language": "python",
   "name": "python3"
  },
  "language_info": {
   "codemirror_mode": {
    "name": "ipython",
    "version": 3
   },
   "file_extension": ".py",
   "mimetype": "text/x-python",
   "name": "python",
   "nbconvert_exporter": "python",
   "pygments_lexer": "ipython3",
   "version": "3.11.0"
  },
  "orig_nbformat": 4,
  "vscode": {
   "interpreter": {
    "hash": "b7a34504438d411b94b6653491ae8a2fe1304757ace0c5755d517e708d91f0bc"
   }
  }
 },
 "nbformat": 4,
 "nbformat_minor": 2
}
