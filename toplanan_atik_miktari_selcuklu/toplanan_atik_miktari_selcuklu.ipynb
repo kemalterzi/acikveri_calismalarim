{
 "cells": [
  {
   "cell_type": "code",
   "execution_count": 4,
   "metadata": {},
   "outputs": [],
   "source": [
    "import pandas as pd\n",
    "import numpy as np"
   ]
  },
  {
   "cell_type": "code",
   "execution_count": 7,
   "metadata": {},
   "outputs": [],
   "source": [
    "atik_selcuklu=pd.read_csv(r'C:\\Users\\terzi\\Desktop\\temizlenecekler\\toplanan_atik_miktari_selcuklu\\139_202203_toplananatikmiktari_selcuklu.csv'\n",
    ", sep=\";\")"
   ]
  },
  {
   "cell_type": "code",
   "execution_count": 8,
   "metadata": {},
   "outputs": [
    {
     "name": "stdout",
     "output_type": "stream",
     "text": [
      "<class 'pandas.core.frame.DataFrame'>\n",
      "RangeIndex: 1856 entries, 0 to 1855\n",
      "Data columns (total 3 columns):\n",
      " #   Column  Non-Null Count  Dtype \n",
      "---  ------  --------------  ----- \n",
      " 0   tarih   1856 non-null   object\n",
      " 1   deger   1856 non-null   object\n",
      " 2   birim   1856 non-null   object\n",
      "dtypes: object(3)\n",
      "memory usage: 43.6+ KB\n"
     ]
    }
   ],
   "source": [
    "atik_selcuklu.info()"
   ]
  },
  {
   "cell_type": "code",
   "execution_count": 16,
   "metadata": {},
   "outputs": [],
   "source": [
    "atik_selcuklu = atik_selcuklu.drop(columns=['birim'])"
   ]
  },
  {
   "cell_type": "code",
   "execution_count": 20,
   "metadata": {},
   "outputs": [],
   "source": [
    "atik_selcuklu = atik_selcuklu.rename(columns={'deger': 'toplanan atik miktari (Ton)'})"
   ]
  },
  {
   "cell_type": "code",
   "execution_count": 22,
   "metadata": {},
   "outputs": [
    {
     "name": "stderr",
     "output_type": "stream",
     "text": [
      "C:\\Users\\terzi\\AppData\\Local\\Temp\\ipykernel_3444\\169852146.py:1: FutureWarning: The default value of regex will change from True to False in a future version. In addition, single character regular expressions will *not* be treated as literal strings when regex=True.\n",
      "  atik_selcuklu[\"toplanan atik miktari (Ton)\"] = atik_selcuklu[\"toplanan atik miktari (Ton)\"].str.replace(\".\", \"\")\n"
     ]
    }
   ],
   "source": [
    "atik_selcuklu[\"toplanan atik miktari (Ton)\"] = atik_selcuklu[\"toplanan atik miktari (Ton)\"].str.replace(\".\", \"\")\n",
    "atik_selcuklu[\"toplanan atik miktari (Ton)\"] = atik_selcuklu[\"toplanan atik miktari (Ton)\"].str[:-3]"
   ]
  },
  {
   "cell_type": "code",
   "execution_count": 50,
   "metadata": {},
   "outputs": [
    {
     "data": {
      "text/html": [
       "<div>\n",
       "<style scoped>\n",
       "    .dataframe tbody tr th:only-of-type {\n",
       "        vertical-align: middle;\n",
       "    }\n",
       "\n",
       "    .dataframe tbody tr th {\n",
       "        vertical-align: top;\n",
       "    }\n",
       "\n",
       "    .dataframe thead th {\n",
       "        text-align: right;\n",
       "    }\n",
       "</style>\n",
       "<table border=\"1\" class=\"dataframe\">\n",
       "  <thead>\n",
       "    <tr style=\"text-align: right;\">\n",
       "      <th></th>\n",
       "      <th>tarih</th>\n",
       "      <th>toplanan atik miktari (Ton)</th>\n",
       "    </tr>\n",
       "  </thead>\n",
       "  <tbody>\n",
       "    <tr>\n",
       "      <th>0</th>\n",
       "      <td>2004-12-31</td>\n",
       "      <td>0</td>\n",
       "    </tr>\n",
       "    <tr>\n",
       "      <th>1</th>\n",
       "      <td>2005-12-31</td>\n",
       "      <td>78743</td>\n",
       "    </tr>\n",
       "    <tr>\n",
       "      <th>2</th>\n",
       "      <td>2006-12-31</td>\n",
       "      <td>149027</td>\n",
       "    </tr>\n",
       "    <tr>\n",
       "      <th>3</th>\n",
       "      <td>2007-12-31</td>\n",
       "      <td>150048</td>\n",
       "    </tr>\n",
       "    <tr>\n",
       "      <th>4</th>\n",
       "      <td>2008-12-31</td>\n",
       "      <td>163462</td>\n",
       "    </tr>\n",
       "  </tbody>\n",
       "</table>\n",
       "</div>"
      ],
      "text/plain": [
       "       tarih  toplanan atik miktari (Ton)\n",
       "0 2004-12-31                            0\n",
       "1 2005-12-31                        78743\n",
       "2 2006-12-31                       149027\n",
       "3 2007-12-31                       150048\n",
       "4 2008-12-31                       163462"
      ]
     },
     "execution_count": 50,
     "metadata": {},
     "output_type": "execute_result"
    }
   ],
   "source": [
    "atik_selcuklu.head()"
   ]
  },
  {
   "cell_type": "code",
   "execution_count": 29,
   "metadata": {},
   "outputs": [],
   "source": [
    "atik_selcuklu[\"toplanan atik miktari (Ton)\"]=atik_selcuklu[\"toplanan atik miktari (Ton)\"].astype(int)"
   ]
  },
  {
   "cell_type": "code",
   "execution_count": 46,
   "metadata": {},
   "outputs": [],
   "source": [
    "atik_selcuklu[\"tarih\"]=pd.to_datetime(atik_selcuklu[\"tarih\"], format='%Y-%m-%d %H')"
   ]
  },
  {
   "cell_type": "code",
   "execution_count": 52,
   "metadata": {},
   "outputs": [],
   "source": [
    "atik_selcuklu.to_csv(r'C:\\Users\\terzi\\Desktop\\temizlenecekler\\toplanan_atik_miktari_selcuklu\\toplananatikmiktari_selcuklu_temiz.csv',\n",
    "index=False)\n",
    "atik_selcuklu.to_excel(r'C:\\Users\\terzi\\Desktop\\temizlenecekler\\toplanan_atik_miktari_selcuklu\\toplananatikmiktari_selcuklu_temiz.xlsx',\n",
    "index=False)"
   ]
  }
 ],
 "metadata": {
  "kernelspec": {
   "display_name": "Python 3",
   "language": "python",
   "name": "python3"
  },
  "language_info": {
   "codemirror_mode": {
    "name": "ipython",
    "version": 3
   },
   "file_extension": ".py",
   "mimetype": "text/x-python",
   "name": "python",
   "nbconvert_exporter": "python",
   "pygments_lexer": "ipython3",
   "version": "3.11.0 (main, Oct 24 2022, 18:26:48) [MSC v.1933 64 bit (AMD64)]"
  },
  "orig_nbformat": 4,
  "vscode": {
   "interpreter": {
    "hash": "b7a34504438d411b94b6653491ae8a2fe1304757ace0c5755d517e708d91f0bc"
   }
  }
 },
 "nbformat": 4,
 "nbformat_minor": 2
}
