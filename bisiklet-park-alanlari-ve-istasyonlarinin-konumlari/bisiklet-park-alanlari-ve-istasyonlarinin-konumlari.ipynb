{
 "cells": [
  {
   "cell_type": "code",
   "execution_count": 77,
   "metadata": {},
   "outputs": [],
   "source": [
    "import pandas as pd\n",
    "import numpy as np"
   ]
  },
  {
   "cell_type": "code",
   "execution_count": 78,
   "metadata": {},
   "outputs": [],
   "source": [
    "bisiklet_konum = pd.read_csv(r\"C:\\Users\\terzi\\Desktop\\bisiklet-park-alanlari-ve-istasyonlarinin-konumlari\\153_202203_bisikletparkalanlari.csv\" ,sep=\";\")"
   ]
  },
  {
   "cell_type": "code",
   "execution_count": 79,
   "metadata": {},
   "outputs": [
    {
     "name": "stdout",
     "output_type": "stream",
     "text": [
      "<class 'pandas.core.frame.DataFrame'>\n",
      "RangeIndex: 105 entries, 0 to 104\n",
      "Data columns (total 2 columns):\n",
      " #   Column  Non-Null Count  Dtype \n",
      "---  ------  --------------  ----- \n",
      " 0   name    105 non-null    object\n",
      " 1   wkt     105 non-null    object\n",
      "dtypes: object(2)\n",
      "memory usage: 1.8+ KB\n"
     ]
    }
   ],
   "source": [
    "bisiklet_konum.info()"
   ]
  },
  {
   "cell_type": "code",
   "execution_count": 80,
   "metadata": {},
   "outputs": [
    {
     "data": {
      "text/html": [
       "<div>\n",
       "<style scoped>\n",
       "    .dataframe tbody tr th:only-of-type {\n",
       "        vertical-align: middle;\n",
       "    }\n",
       "\n",
       "    .dataframe tbody tr th {\n",
       "        vertical-align: top;\n",
       "    }\n",
       "\n",
       "    .dataframe thead th {\n",
       "        text-align: right;\n",
       "    }\n",
       "</style>\n",
       "<table border=\"1\" class=\"dataframe\">\n",
       "  <thead>\n",
       "    <tr style=\"text-align: right;\">\n",
       "      <th></th>\n",
       "      <th>name</th>\n",
       "      <th>wkt</th>\n",
       "    </tr>\n",
       "  </thead>\n",
       "  <tbody>\n",
       "    <tr>\n",
       "      <th>0</th>\n",
       "      <td>KAMPÜS 02A BOSNA HERSEK</td>\n",
       "      <td>POINT Z (32.51877984190408 38.00940102091862 0)</td>\n",
       "    </tr>\n",
       "    <tr>\n",
       "      <th>1</th>\n",
       "      <td>KAMPÜS 02B BOSNA HERSEK</td>\n",
       "      <td>POINT Z (32.51938029678481 38.00947915130062 0)</td>\n",
       "    </tr>\n",
       "    <tr>\n",
       "      <th>2</th>\n",
       "      <td>KAMPÜS 03 BUZLUKBAŞI</td>\n",
       "      <td>POINT Z (32.51973693158448 38.00250371121295 0)</td>\n",
       "    </tr>\n",
       "    <tr>\n",
       "      <th>3</th>\n",
       "      <td>KAMPÜS 04 FIRAT CADDESİ</td>\n",
       "      <td>POINT Z (32.5184303520723 37.99464895249642 0)</td>\n",
       "    </tr>\n",
       "    <tr>\n",
       "      <th>4</th>\n",
       "      <td>KAMPÜS 05 PİRİ REİS</td>\n",
       "      <td>POINT Z (32.51770962074744 37.98915648742838 0)</td>\n",
       "    </tr>\n",
       "  </tbody>\n",
       "</table>\n",
       "</div>"
      ],
      "text/plain": [
       "                      name                                              wkt\n",
       "0  KAMPÜS 02A BOSNA HERSEK  POINT Z (32.51877984190408 38.00940102091862 0)\n",
       "1  KAMPÜS 02B BOSNA HERSEK  POINT Z (32.51938029678481 38.00947915130062 0)\n",
       "2     KAMPÜS 03 BUZLUKBAŞI  POINT Z (32.51973693158448 38.00250371121295 0)\n",
       "3  KAMPÜS 04 FIRAT CADDESİ   POINT Z (32.5184303520723 37.99464895249642 0)\n",
       "4      KAMPÜS 05 PİRİ REİS  POINT Z (32.51770962074744 37.98915648742838 0)"
      ]
     },
     "execution_count": 80,
     "metadata": {},
     "output_type": "execute_result"
    }
   ],
   "source": [
    "bisiklet_konum.head()"
   ]
  },
  {
   "cell_type": "code",
   "execution_count": 81,
   "metadata": {},
   "outputs": [],
   "source": [
    "bisiklet_konum = bisiklet_konum.rename(columns={\"name\":\"park_alani_isimleri\" , \"wkt\" : \"park_alani_konumlari\"})"
   ]
  },
  {
   "cell_type": "code",
   "execution_count": 82,
   "metadata": {},
   "outputs": [
    {
     "data": {
      "text/html": [
       "<div>\n",
       "<style scoped>\n",
       "    .dataframe tbody tr th:only-of-type {\n",
       "        vertical-align: middle;\n",
       "    }\n",
       "\n",
       "    .dataframe tbody tr th {\n",
       "        vertical-align: top;\n",
       "    }\n",
       "\n",
       "    .dataframe thead th {\n",
       "        text-align: right;\n",
       "    }\n",
       "</style>\n",
       "<table border=\"1\" class=\"dataframe\">\n",
       "  <thead>\n",
       "    <tr style=\"text-align: right;\">\n",
       "      <th></th>\n",
       "      <th>park_alani_isimleri</th>\n",
       "      <th>park_alani_konumlari</th>\n",
       "    </tr>\n",
       "  </thead>\n",
       "  <tbody>\n",
       "    <tr>\n",
       "      <th>0</th>\n",
       "      <td>KAMPÜS 02A BOSNA HERSEK</td>\n",
       "      <td>POINT Z (32.51877984190408 38.00940102091862 0)</td>\n",
       "    </tr>\n",
       "    <tr>\n",
       "      <th>1</th>\n",
       "      <td>KAMPÜS 02B BOSNA HERSEK</td>\n",
       "      <td>POINT Z (32.51938029678481 38.00947915130062 0)</td>\n",
       "    </tr>\n",
       "    <tr>\n",
       "      <th>2</th>\n",
       "      <td>KAMPÜS 03 BUZLUKBAŞI</td>\n",
       "      <td>POINT Z (32.51973693158448 38.00250371121295 0)</td>\n",
       "    </tr>\n",
       "    <tr>\n",
       "      <th>3</th>\n",
       "      <td>KAMPÜS 04 FIRAT CADDESİ</td>\n",
       "      <td>POINT Z (32.5184303520723 37.99464895249642 0)</td>\n",
       "    </tr>\n",
       "    <tr>\n",
       "      <th>4</th>\n",
       "      <td>KAMPÜS 05 PİRİ REİS</td>\n",
       "      <td>POINT Z (32.51770962074744 37.98915648742838 0)</td>\n",
       "    </tr>\n",
       "  </tbody>\n",
       "</table>\n",
       "</div>"
      ],
      "text/plain": [
       "       park_alani_isimleri                             park_alani_konumlari\n",
       "0  KAMPÜS 02A BOSNA HERSEK  POINT Z (32.51877984190408 38.00940102091862 0)\n",
       "1  KAMPÜS 02B BOSNA HERSEK  POINT Z (32.51938029678481 38.00947915130062 0)\n",
       "2     KAMPÜS 03 BUZLUKBAŞI  POINT Z (32.51973693158448 38.00250371121295 0)\n",
       "3  KAMPÜS 04 FIRAT CADDESİ   POINT Z (32.5184303520723 37.99464895249642 0)\n",
       "4      KAMPÜS 05 PİRİ REİS  POINT Z (32.51770962074744 37.98915648742838 0)"
      ]
     },
     "execution_count": 82,
     "metadata": {},
     "output_type": "execute_result"
    }
   ],
   "source": [
    "bisiklet_konum.head()"
   ]
  },
  {
   "cell_type": "code",
   "execution_count": 83,
   "metadata": {},
   "outputs": [
    {
     "name": "stderr",
     "output_type": "stream",
     "text": [
      "C:\\Users\\terzi\\AppData\\Local\\Temp\\ipykernel_11940\\2850192041.py:2: FutureWarning: The default value of regex will change from True to False in a future version. In addition, single character regular expressions will *not* be treated as literal strings when regex=True.\n",
      "  bisiklet_konum[\"park_alani_konumlari\"] = bisiklet_konum[\"park_alani_konumlari\"].astype(str).str.replace(\"(\",\"\")\n",
      "C:\\Users\\terzi\\AppData\\Local\\Temp\\ipykernel_11940\\2850192041.py:3: FutureWarning: The default value of regex will change from True to False in a future version. In addition, single character regular expressions will *not* be treated as literal strings when regex=True.\n",
      "  bisiklet_konum[\"park_alani_konumlari\"] = bisiklet_konum[\"park_alani_konumlari\"].astype(str).str.replace(\")\",\"\")\n"
     ]
    }
   ],
   "source": [
    "bisiklet_konum[\"park_alani_konumlari\"] = bisiklet_konum[\"park_alani_konumlari\"].astype(str).str.replace(\"POINT Z \",\"\")\n",
    "bisiklet_konum[\"park_alani_konumlari\"] = bisiklet_konum[\"park_alani_konumlari\"].astype(str).str.replace(\"(\",\"\")\n",
    "bisiklet_konum[\"park_alani_konumlari\"] = bisiklet_konum[\"park_alani_konumlari\"].astype(str).str.replace(\")\",\"\")"
   ]
  },
  {
   "cell_type": "code",
   "execution_count": 84,
   "metadata": {},
   "outputs": [
    {
     "data": {
      "text/html": [
       "<div>\n",
       "<style scoped>\n",
       "    .dataframe tbody tr th:only-of-type {\n",
       "        vertical-align: middle;\n",
       "    }\n",
       "\n",
       "    .dataframe tbody tr th {\n",
       "        vertical-align: top;\n",
       "    }\n",
       "\n",
       "    .dataframe thead th {\n",
       "        text-align: right;\n",
       "    }\n",
       "</style>\n",
       "<table border=\"1\" class=\"dataframe\">\n",
       "  <thead>\n",
       "    <tr style=\"text-align: right;\">\n",
       "      <th></th>\n",
       "      <th>park_alani_isimleri</th>\n",
       "      <th>park_alani_konumlari</th>\n",
       "    </tr>\n",
       "  </thead>\n",
       "  <tbody>\n",
       "    <tr>\n",
       "      <th>0</th>\n",
       "      <td>KAMPÜS 02A BOSNA HERSEK</td>\n",
       "      <td>32.51877984190408 38.00940102091862 0</td>\n",
       "    </tr>\n",
       "    <tr>\n",
       "      <th>1</th>\n",
       "      <td>KAMPÜS 02B BOSNA HERSEK</td>\n",
       "      <td>32.51938029678481 38.00947915130062 0</td>\n",
       "    </tr>\n",
       "    <tr>\n",
       "      <th>2</th>\n",
       "      <td>KAMPÜS 03 BUZLUKBAŞI</td>\n",
       "      <td>32.51973693158448 38.00250371121295 0</td>\n",
       "    </tr>\n",
       "    <tr>\n",
       "      <th>3</th>\n",
       "      <td>KAMPÜS 04 FIRAT CADDESİ</td>\n",
       "      <td>32.5184303520723 37.99464895249642 0</td>\n",
       "    </tr>\n",
       "    <tr>\n",
       "      <th>4</th>\n",
       "      <td>KAMPÜS 05 PİRİ REİS</td>\n",
       "      <td>32.51770962074744 37.98915648742838 0</td>\n",
       "    </tr>\n",
       "  </tbody>\n",
       "</table>\n",
       "</div>"
      ],
      "text/plain": [
       "       park_alani_isimleri                   park_alani_konumlari\n",
       "0  KAMPÜS 02A BOSNA HERSEK  32.51877984190408 38.00940102091862 0\n",
       "1  KAMPÜS 02B BOSNA HERSEK  32.51938029678481 38.00947915130062 0\n",
       "2     KAMPÜS 03 BUZLUKBAŞI  32.51973693158448 38.00250371121295 0\n",
       "3  KAMPÜS 04 FIRAT CADDESİ   32.5184303520723 37.99464895249642 0\n",
       "4      KAMPÜS 05 PİRİ REİS  32.51770962074744 37.98915648742838 0"
      ]
     },
     "execution_count": 84,
     "metadata": {},
     "output_type": "execute_result"
    }
   ],
   "source": [
    "bisiklet_konum.head()"
   ]
  },
  {
   "cell_type": "code",
   "execution_count": 85,
   "metadata": {},
   "outputs": [
    {
     "data": {
      "text/plain": [
       "'32.51770962074744 37.98915648742838 '"
      ]
     },
     "execution_count": 85,
     "metadata": {},
     "output_type": "execute_result"
    }
   ],
   "source": [
    "bisiklet_konum[\"park_alani_konumlari\"][4][:-1]"
   ]
  },
  {
   "cell_type": "code",
   "execution_count": 86,
   "metadata": {},
   "outputs": [],
   "source": [
    "bisiklet_konum[\"park_alani_konumlari\"] = bisiklet_konum[\"park_alani_konumlari\"].astype(str).str[:-1]"
   ]
  },
  {
   "cell_type": "code",
   "execution_count": 87,
   "metadata": {},
   "outputs": [
    {
     "data": {
      "text/html": [
       "<div>\n",
       "<style scoped>\n",
       "    .dataframe tbody tr th:only-of-type {\n",
       "        vertical-align: middle;\n",
       "    }\n",
       "\n",
       "    .dataframe tbody tr th {\n",
       "        vertical-align: top;\n",
       "    }\n",
       "\n",
       "    .dataframe thead th {\n",
       "        text-align: right;\n",
       "    }\n",
       "</style>\n",
       "<table border=\"1\" class=\"dataframe\">\n",
       "  <thead>\n",
       "    <tr style=\"text-align: right;\">\n",
       "      <th></th>\n",
       "      <th>park_alani_isimleri</th>\n",
       "      <th>park_alani_konumlari</th>\n",
       "    </tr>\n",
       "  </thead>\n",
       "  <tbody>\n",
       "    <tr>\n",
       "      <th>0</th>\n",
       "      <td>KAMPÜS 02A BOSNA HERSEK</td>\n",
       "      <td>32.51877984190408 38.00940102091862</td>\n",
       "    </tr>\n",
       "    <tr>\n",
       "      <th>1</th>\n",
       "      <td>KAMPÜS 02B BOSNA HERSEK</td>\n",
       "      <td>32.51938029678481 38.00947915130062</td>\n",
       "    </tr>\n",
       "    <tr>\n",
       "      <th>2</th>\n",
       "      <td>KAMPÜS 03 BUZLUKBAŞI</td>\n",
       "      <td>32.51973693158448 38.00250371121295</td>\n",
       "    </tr>\n",
       "    <tr>\n",
       "      <th>3</th>\n",
       "      <td>KAMPÜS 04 FIRAT CADDESİ</td>\n",
       "      <td>32.5184303520723 37.99464895249642</td>\n",
       "    </tr>\n",
       "    <tr>\n",
       "      <th>4</th>\n",
       "      <td>KAMPÜS 05 PİRİ REİS</td>\n",
       "      <td>32.51770962074744 37.98915648742838</td>\n",
       "    </tr>\n",
       "  </tbody>\n",
       "</table>\n",
       "</div>"
      ],
      "text/plain": [
       "       park_alani_isimleri                  park_alani_konumlari\n",
       "0  KAMPÜS 02A BOSNA HERSEK  32.51877984190408 38.00940102091862 \n",
       "1  KAMPÜS 02B BOSNA HERSEK  32.51938029678481 38.00947915130062 \n",
       "2     KAMPÜS 03 BUZLUKBAŞI  32.51973693158448 38.00250371121295 \n",
       "3  KAMPÜS 04 FIRAT CADDESİ   32.5184303520723 37.99464895249642 \n",
       "4      KAMPÜS 05 PİRİ REİS  32.51770962074744 37.98915648742838 "
      ]
     },
     "execution_count": 87,
     "metadata": {},
     "output_type": "execute_result"
    }
   ],
   "source": [
    "bisiklet_konum.head()"
   ]
  },
  {
   "cell_type": "code",
   "execution_count": 88,
   "metadata": {},
   "outputs": [
    {
     "data": {
      "text/plain": [
       "'32.51770962074744 37.98915648742838'"
      ]
     },
     "execution_count": 88,
     "metadata": {},
     "output_type": "execute_result"
    }
   ],
   "source": [
    "bisiklet_konum[\"park_alani_konumlari\"][4][:-1]"
   ]
  },
  {
   "cell_type": "code",
   "execution_count": 89,
   "metadata": {},
   "outputs": [],
   "source": [
    "bisiklet_konum[\"park_alani_konumlari\"] = bisiklet_konum[\"park_alani_konumlari\"].astype(str).str[:-1]"
   ]
  },
  {
   "cell_type": "code",
   "execution_count": 90,
   "metadata": {},
   "outputs": [
    {
     "data": {
      "text/html": [
       "<div>\n",
       "<style scoped>\n",
       "    .dataframe tbody tr th:only-of-type {\n",
       "        vertical-align: middle;\n",
       "    }\n",
       "\n",
       "    .dataframe tbody tr th {\n",
       "        vertical-align: top;\n",
       "    }\n",
       "\n",
       "    .dataframe thead th {\n",
       "        text-align: right;\n",
       "    }\n",
       "</style>\n",
       "<table border=\"1\" class=\"dataframe\">\n",
       "  <thead>\n",
       "    <tr style=\"text-align: right;\">\n",
       "      <th></th>\n",
       "      <th>park_alani_isimleri</th>\n",
       "      <th>park_alani_konumlari</th>\n",
       "    </tr>\n",
       "  </thead>\n",
       "  <tbody>\n",
       "    <tr>\n",
       "      <th>0</th>\n",
       "      <td>KAMPÜS 02A BOSNA HERSEK</td>\n",
       "      <td>32.51877984190408 38.00940102091862</td>\n",
       "    </tr>\n",
       "    <tr>\n",
       "      <th>1</th>\n",
       "      <td>KAMPÜS 02B BOSNA HERSEK</td>\n",
       "      <td>32.51938029678481 38.00947915130062</td>\n",
       "    </tr>\n",
       "    <tr>\n",
       "      <th>2</th>\n",
       "      <td>KAMPÜS 03 BUZLUKBAŞI</td>\n",
       "      <td>32.51973693158448 38.00250371121295</td>\n",
       "    </tr>\n",
       "    <tr>\n",
       "      <th>3</th>\n",
       "      <td>KAMPÜS 04 FIRAT CADDESİ</td>\n",
       "      <td>32.5184303520723 37.99464895249642</td>\n",
       "    </tr>\n",
       "    <tr>\n",
       "      <th>4</th>\n",
       "      <td>KAMPÜS 05 PİRİ REİS</td>\n",
       "      <td>32.51770962074744 37.98915648742838</td>\n",
       "    </tr>\n",
       "  </tbody>\n",
       "</table>\n",
       "</div>"
      ],
      "text/plain": [
       "       park_alani_isimleri                 park_alani_konumlari\n",
       "0  KAMPÜS 02A BOSNA HERSEK  32.51877984190408 38.00940102091862\n",
       "1  KAMPÜS 02B BOSNA HERSEK  32.51938029678481 38.00947915130062\n",
       "2     KAMPÜS 03 BUZLUKBAŞI  32.51973693158448 38.00250371121295\n",
       "3  KAMPÜS 04 FIRAT CADDESİ   32.5184303520723 37.99464895249642\n",
       "4      KAMPÜS 05 PİRİ REİS  32.51770962074744 37.98915648742838"
      ]
     },
     "execution_count": 90,
     "metadata": {},
     "output_type": "execute_result"
    }
   ],
   "source": [
    "bisiklet_konum.head()"
   ]
  },
  {
   "cell_type": "code",
   "execution_count": 91,
   "metadata": {},
   "outputs": [],
   "source": [
    "bisiklet_konum[['boylam', 'enlem']] = bisiklet_konum['park_alani_konumlari'].str.split(' ', expand=True)"
   ]
  },
  {
   "cell_type": "code",
   "execution_count": 92,
   "metadata": {},
   "outputs": [
    {
     "data": {
      "text/html": [
       "<div>\n",
       "<style scoped>\n",
       "    .dataframe tbody tr th:only-of-type {\n",
       "        vertical-align: middle;\n",
       "    }\n",
       "\n",
       "    .dataframe tbody tr th {\n",
       "        vertical-align: top;\n",
       "    }\n",
       "\n",
       "    .dataframe thead th {\n",
       "        text-align: right;\n",
       "    }\n",
       "</style>\n",
       "<table border=\"1\" class=\"dataframe\">\n",
       "  <thead>\n",
       "    <tr style=\"text-align: right;\">\n",
       "      <th></th>\n",
       "      <th>park_alani_isimleri</th>\n",
       "      <th>park_alani_konumlari</th>\n",
       "      <th>boylam</th>\n",
       "      <th>enlem</th>\n",
       "    </tr>\n",
       "  </thead>\n",
       "  <tbody>\n",
       "    <tr>\n",
       "      <th>0</th>\n",
       "      <td>KAMPÜS 02A BOSNA HERSEK</td>\n",
       "      <td>32.51877984190408 38.00940102091862</td>\n",
       "      <td>32.51877984190408</td>\n",
       "      <td>38.00940102091862</td>\n",
       "    </tr>\n",
       "    <tr>\n",
       "      <th>1</th>\n",
       "      <td>KAMPÜS 02B BOSNA HERSEK</td>\n",
       "      <td>32.51938029678481 38.00947915130062</td>\n",
       "      <td>32.51938029678481</td>\n",
       "      <td>38.00947915130062</td>\n",
       "    </tr>\n",
       "    <tr>\n",
       "      <th>2</th>\n",
       "      <td>KAMPÜS 03 BUZLUKBAŞI</td>\n",
       "      <td>32.51973693158448 38.00250371121295</td>\n",
       "      <td>32.51973693158448</td>\n",
       "      <td>38.00250371121295</td>\n",
       "    </tr>\n",
       "    <tr>\n",
       "      <th>3</th>\n",
       "      <td>KAMPÜS 04 FIRAT CADDESİ</td>\n",
       "      <td>32.5184303520723 37.99464895249642</td>\n",
       "      <td>32.5184303520723</td>\n",
       "      <td>37.99464895249642</td>\n",
       "    </tr>\n",
       "    <tr>\n",
       "      <th>4</th>\n",
       "      <td>KAMPÜS 05 PİRİ REİS</td>\n",
       "      <td>32.51770962074744 37.98915648742838</td>\n",
       "      <td>32.51770962074744</td>\n",
       "      <td>37.98915648742838</td>\n",
       "    </tr>\n",
       "  </tbody>\n",
       "</table>\n",
       "</div>"
      ],
      "text/plain": [
       "       park_alani_isimleri                 park_alani_konumlari  \\\n",
       "0  KAMPÜS 02A BOSNA HERSEK  32.51877984190408 38.00940102091862   \n",
       "1  KAMPÜS 02B BOSNA HERSEK  32.51938029678481 38.00947915130062   \n",
       "2     KAMPÜS 03 BUZLUKBAŞI  32.51973693158448 38.00250371121295   \n",
       "3  KAMPÜS 04 FIRAT CADDESİ   32.5184303520723 37.99464895249642   \n",
       "4      KAMPÜS 05 PİRİ REİS  32.51770962074744 37.98915648742838   \n",
       "\n",
       "              boylam              enlem  \n",
       "0  32.51877984190408  38.00940102091862  \n",
       "1  32.51938029678481  38.00947915130062  \n",
       "2  32.51973693158448  38.00250371121295  \n",
       "3   32.5184303520723  37.99464895249642  \n",
       "4  32.51770962074744  37.98915648742838  "
      ]
     },
     "execution_count": 92,
     "metadata": {},
     "output_type": "execute_result"
    }
   ],
   "source": [
    "bisiklet_konum.head()"
   ]
  },
  {
   "cell_type": "code",
   "execution_count": 93,
   "metadata": {},
   "outputs": [],
   "source": [
    "bisiklet_konum = bisiklet_konum.drop(columns={\"park_alani_konumlari\"})"
   ]
  },
  {
   "cell_type": "code",
   "execution_count": 94,
   "metadata": {},
   "outputs": [
    {
     "data": {
      "text/html": [
       "<div>\n",
       "<style scoped>\n",
       "    .dataframe tbody tr th:only-of-type {\n",
       "        vertical-align: middle;\n",
       "    }\n",
       "\n",
       "    .dataframe tbody tr th {\n",
       "        vertical-align: top;\n",
       "    }\n",
       "\n",
       "    .dataframe thead th {\n",
       "        text-align: right;\n",
       "    }\n",
       "</style>\n",
       "<table border=\"1\" class=\"dataframe\">\n",
       "  <thead>\n",
       "    <tr style=\"text-align: right;\">\n",
       "      <th></th>\n",
       "      <th>park_alani_isimleri</th>\n",
       "      <th>boylam</th>\n",
       "      <th>enlem</th>\n",
       "    </tr>\n",
       "  </thead>\n",
       "  <tbody>\n",
       "    <tr>\n",
       "      <th>0</th>\n",
       "      <td>KAMPÜS 02A BOSNA HERSEK</td>\n",
       "      <td>32.51877984190408</td>\n",
       "      <td>38.00940102091862</td>\n",
       "    </tr>\n",
       "    <tr>\n",
       "      <th>1</th>\n",
       "      <td>KAMPÜS 02B BOSNA HERSEK</td>\n",
       "      <td>32.51938029678481</td>\n",
       "      <td>38.00947915130062</td>\n",
       "    </tr>\n",
       "    <tr>\n",
       "      <th>2</th>\n",
       "      <td>KAMPÜS 03 BUZLUKBAŞI</td>\n",
       "      <td>32.51973693158448</td>\n",
       "      <td>38.00250371121295</td>\n",
       "    </tr>\n",
       "    <tr>\n",
       "      <th>3</th>\n",
       "      <td>KAMPÜS 04 FIRAT CADDESİ</td>\n",
       "      <td>32.5184303520723</td>\n",
       "      <td>37.99464895249642</td>\n",
       "    </tr>\n",
       "    <tr>\n",
       "      <th>4</th>\n",
       "      <td>KAMPÜS 05 PİRİ REİS</td>\n",
       "      <td>32.51770962074744</td>\n",
       "      <td>37.98915648742838</td>\n",
       "    </tr>\n",
       "  </tbody>\n",
       "</table>\n",
       "</div>"
      ],
      "text/plain": [
       "       park_alani_isimleri             boylam              enlem\n",
       "0  KAMPÜS 02A BOSNA HERSEK  32.51877984190408  38.00940102091862\n",
       "1  KAMPÜS 02B BOSNA HERSEK  32.51938029678481  38.00947915130062\n",
       "2     KAMPÜS 03 BUZLUKBAŞI  32.51973693158448  38.00250371121295\n",
       "3  KAMPÜS 04 FIRAT CADDESİ   32.5184303520723  37.99464895249642\n",
       "4      KAMPÜS 05 PİRİ REİS  32.51770962074744  37.98915648742838"
      ]
     },
     "execution_count": 94,
     "metadata": {},
     "output_type": "execute_result"
    }
   ],
   "source": [
    "bisiklet_konum.head()"
   ]
  },
  {
   "cell_type": "code",
   "execution_count": 95,
   "metadata": {},
   "outputs": [],
   "source": [
    "enlem = bisiklet_konum['enlem']\n",
    "bisiklet_konum_2 = bisiklet_konum.drop('enlem', axis=1)\n",
    "orta_index = len(bisiklet_konum_2.columns) // 2\n",
    "bisiklet_konum_2.insert(orta_index, 'enlem', enlem)"
   ]
  },
  {
   "cell_type": "code",
   "execution_count": 96,
   "metadata": {},
   "outputs": [
    {
     "data": {
      "text/html": [
       "<div>\n",
       "<style scoped>\n",
       "    .dataframe tbody tr th:only-of-type {\n",
       "        vertical-align: middle;\n",
       "    }\n",
       "\n",
       "    .dataframe tbody tr th {\n",
       "        vertical-align: top;\n",
       "    }\n",
       "\n",
       "    .dataframe thead th {\n",
       "        text-align: right;\n",
       "    }\n",
       "</style>\n",
       "<table border=\"1\" class=\"dataframe\">\n",
       "  <thead>\n",
       "    <tr style=\"text-align: right;\">\n",
       "      <th></th>\n",
       "      <th>park_alani_isimleri</th>\n",
       "      <th>boylam</th>\n",
       "      <th>enlem</th>\n",
       "    </tr>\n",
       "  </thead>\n",
       "  <tbody>\n",
       "    <tr>\n",
       "      <th>0</th>\n",
       "      <td>KAMPÜS 02A BOSNA HERSEK</td>\n",
       "      <td>32.51877984190408</td>\n",
       "      <td>38.00940102091862</td>\n",
       "    </tr>\n",
       "    <tr>\n",
       "      <th>1</th>\n",
       "      <td>KAMPÜS 02B BOSNA HERSEK</td>\n",
       "      <td>32.51938029678481</td>\n",
       "      <td>38.00947915130062</td>\n",
       "    </tr>\n",
       "    <tr>\n",
       "      <th>2</th>\n",
       "      <td>KAMPÜS 03 BUZLUKBAŞI</td>\n",
       "      <td>32.51973693158448</td>\n",
       "      <td>38.00250371121295</td>\n",
       "    </tr>\n",
       "    <tr>\n",
       "      <th>3</th>\n",
       "      <td>KAMPÜS 04 FIRAT CADDESİ</td>\n",
       "      <td>32.5184303520723</td>\n",
       "      <td>37.99464895249642</td>\n",
       "    </tr>\n",
       "    <tr>\n",
       "      <th>4</th>\n",
       "      <td>KAMPÜS 05 PİRİ REİS</td>\n",
       "      <td>32.51770962074744</td>\n",
       "      <td>37.98915648742838</td>\n",
       "    </tr>\n",
       "  </tbody>\n",
       "</table>\n",
       "</div>"
      ],
      "text/plain": [
       "       park_alani_isimleri             boylam              enlem\n",
       "0  KAMPÜS 02A BOSNA HERSEK  32.51877984190408  38.00940102091862\n",
       "1  KAMPÜS 02B BOSNA HERSEK  32.51938029678481  38.00947915130062\n",
       "2     KAMPÜS 03 BUZLUKBAŞI  32.51973693158448  38.00250371121295\n",
       "3  KAMPÜS 04 FIRAT CADDESİ   32.5184303520723  37.99464895249642\n",
       "4      KAMPÜS 05 PİRİ REİS  32.51770962074744  37.98915648742838"
      ]
     },
     "execution_count": 96,
     "metadata": {},
     "output_type": "execute_result"
    }
   ],
   "source": [
    "bisiklet_konum.head()"
   ]
  },
  {
   "cell_type": "code",
   "execution_count": 97,
   "metadata": {},
   "outputs": [
    {
     "data": {
      "text/html": [
       "<div>\n",
       "<style scoped>\n",
       "    .dataframe tbody tr th:only-of-type {\n",
       "        vertical-align: middle;\n",
       "    }\n",
       "\n",
       "    .dataframe tbody tr th {\n",
       "        vertical-align: top;\n",
       "    }\n",
       "\n",
       "    .dataframe thead th {\n",
       "        text-align: right;\n",
       "    }\n",
       "</style>\n",
       "<table border=\"1\" class=\"dataframe\">\n",
       "  <thead>\n",
       "    <tr style=\"text-align: right;\">\n",
       "      <th></th>\n",
       "      <th>park_alani_isimleri</th>\n",
       "      <th>enlem</th>\n",
       "      <th>boylam</th>\n",
       "    </tr>\n",
       "  </thead>\n",
       "  <tbody>\n",
       "    <tr>\n",
       "      <th>0</th>\n",
       "      <td>KAMPÜS 02A BOSNA HERSEK</td>\n",
       "      <td>38.00940102091862</td>\n",
       "      <td>32.51877984190408</td>\n",
       "    </tr>\n",
       "    <tr>\n",
       "      <th>1</th>\n",
       "      <td>KAMPÜS 02B BOSNA HERSEK</td>\n",
       "      <td>38.00947915130062</td>\n",
       "      <td>32.51938029678481</td>\n",
       "    </tr>\n",
       "    <tr>\n",
       "      <th>2</th>\n",
       "      <td>KAMPÜS 03 BUZLUKBAŞI</td>\n",
       "      <td>38.00250371121295</td>\n",
       "      <td>32.51973693158448</td>\n",
       "    </tr>\n",
       "    <tr>\n",
       "      <th>3</th>\n",
       "      <td>KAMPÜS 04 FIRAT CADDESİ</td>\n",
       "      <td>37.99464895249642</td>\n",
       "      <td>32.5184303520723</td>\n",
       "    </tr>\n",
       "    <tr>\n",
       "      <th>4</th>\n",
       "      <td>KAMPÜS 05 PİRİ REİS</td>\n",
       "      <td>37.98915648742838</td>\n",
       "      <td>32.51770962074744</td>\n",
       "    </tr>\n",
       "  </tbody>\n",
       "</table>\n",
       "</div>"
      ],
      "text/plain": [
       "       park_alani_isimleri              enlem             boylam\n",
       "0  KAMPÜS 02A BOSNA HERSEK  38.00940102091862  32.51877984190408\n",
       "1  KAMPÜS 02B BOSNA HERSEK  38.00947915130062  32.51938029678481\n",
       "2     KAMPÜS 03 BUZLUKBAŞI  38.00250371121295  32.51973693158448\n",
       "3  KAMPÜS 04 FIRAT CADDESİ  37.99464895249642   32.5184303520723\n",
       "4      KAMPÜS 05 PİRİ REİS  37.98915648742838  32.51770962074744"
      ]
     },
     "execution_count": 97,
     "metadata": {},
     "output_type": "execute_result"
    }
   ],
   "source": [
    "bisiklet_konum_2.head()"
   ]
  },
  {
   "cell_type": "code",
   "execution_count": 98,
   "metadata": {},
   "outputs": [],
   "source": [
    "bisiklet_konum_2.to_csv(r\"C:\\Users\\terzi\\Desktop\\bisiklet-park-alanlari-ve-istasyonlarinin-konumlari\\csv\\bisiklet-park-alanlari-ve-istasyonlarinin-konumlari.csv\" ,index=False ,header=True)\n",
    "bisiklet_konum_2.to_excel(r\"C:\\Users\\terzi\\Desktop\\bisiklet-park-alanlari-ve-istasyonlarinin-konumlari\\xlsx\\bisiklet-park-alanlari-ve-istasyonlarinin-konumlari.xlsx\" ,index=False ,header=True)"
   ]
  },
  {
   "cell_type": "code",
   "execution_count": 72,
   "metadata": {},
   "outputs": [],
   "source": [
    "bisiklet_konum_2[\"park_alani_konumlari\"] = bisiklet_konum_2[\"enlem\"].astype(str) + \",\" + bisiklet_konum_2[\"boylam\"].astype(str)"
   ]
  },
  {
   "cell_type": "code",
   "execution_count": 73,
   "metadata": {},
   "outputs": [
    {
     "data": {
      "text/html": [
       "<div>\n",
       "<style scoped>\n",
       "    .dataframe tbody tr th:only-of-type {\n",
       "        vertical-align: middle;\n",
       "    }\n",
       "\n",
       "    .dataframe tbody tr th {\n",
       "        vertical-align: top;\n",
       "    }\n",
       "\n",
       "    .dataframe thead th {\n",
       "        text-align: right;\n",
       "    }\n",
       "</style>\n",
       "<table border=\"1\" class=\"dataframe\">\n",
       "  <thead>\n",
       "    <tr style=\"text-align: right;\">\n",
       "      <th></th>\n",
       "      <th>park_alani_isimleri</th>\n",
       "      <th>enlem</th>\n",
       "      <th>boylam</th>\n",
       "      <th>park_alani_konumlari</th>\n",
       "    </tr>\n",
       "  </thead>\n",
       "  <tbody>\n",
       "    <tr>\n",
       "      <th>0</th>\n",
       "      <td>KAMPÜS 02A BOSNA HERSEK</td>\n",
       "      <td>38.00940102091862</td>\n",
       "      <td>32.51877984190408</td>\n",
       "      <td>38.00940102091862,32.51877984190408</td>\n",
       "    </tr>\n",
       "    <tr>\n",
       "      <th>1</th>\n",
       "      <td>KAMPÜS 02B BOSNA HERSEK</td>\n",
       "      <td>38.00947915130062</td>\n",
       "      <td>32.51938029678481</td>\n",
       "      <td>38.00947915130062,32.51938029678481</td>\n",
       "    </tr>\n",
       "    <tr>\n",
       "      <th>2</th>\n",
       "      <td>KAMPÜS 03 BUZLUKBAŞI</td>\n",
       "      <td>38.00250371121295</td>\n",
       "      <td>32.51973693158448</td>\n",
       "      <td>38.00250371121295,32.51973693158448</td>\n",
       "    </tr>\n",
       "    <tr>\n",
       "      <th>3</th>\n",
       "      <td>KAMPÜS 04 FIRAT CADDESİ</td>\n",
       "      <td>37.99464895249642</td>\n",
       "      <td>32.5184303520723</td>\n",
       "      <td>37.99464895249642,32.5184303520723</td>\n",
       "    </tr>\n",
       "    <tr>\n",
       "      <th>4</th>\n",
       "      <td>KAMPÜS 05 PİRİ REİS</td>\n",
       "      <td>37.98915648742838</td>\n",
       "      <td>32.51770962074744</td>\n",
       "      <td>37.98915648742838,32.51770962074744</td>\n",
       "    </tr>\n",
       "  </tbody>\n",
       "</table>\n",
       "</div>"
      ],
      "text/plain": [
       "       park_alani_isimleri              enlem             boylam  \\\n",
       "0  KAMPÜS 02A BOSNA HERSEK  38.00940102091862  32.51877984190408   \n",
       "1  KAMPÜS 02B BOSNA HERSEK  38.00947915130062  32.51938029678481   \n",
       "2     KAMPÜS 03 BUZLUKBAŞI  38.00250371121295  32.51973693158448   \n",
       "3  KAMPÜS 04 FIRAT CADDESİ  37.99464895249642   32.5184303520723   \n",
       "4      KAMPÜS 05 PİRİ REİS  37.98915648742838  32.51770962074744   \n",
       "\n",
       "                  park_alani_konumlari  \n",
       "0  38.00940102091862,32.51877984190408  \n",
       "1  38.00947915130062,32.51938029678481  \n",
       "2  38.00250371121295,32.51973693158448  \n",
       "3   37.99464895249642,32.5184303520723  \n",
       "4  37.98915648742838,32.51770962074744  "
      ]
     },
     "execution_count": 73,
     "metadata": {},
     "output_type": "execute_result"
    }
   ],
   "source": [
    "bisiklet_konum_2.head()"
   ]
  },
  {
   "cell_type": "code",
   "execution_count": 74,
   "metadata": {},
   "outputs": [],
   "source": [
    "bisiklet_konum_2 = bisiklet_konum_2.drop(columns={\"enlem\"})\n",
    "bisiklet_konum_2 = bisiklet_konum_2.drop(columns={\"boylam\"})"
   ]
  },
  {
   "cell_type": "code",
   "execution_count": 75,
   "metadata": {},
   "outputs": [
    {
     "data": {
      "text/html": [
       "<div>\n",
       "<style scoped>\n",
       "    .dataframe tbody tr th:only-of-type {\n",
       "        vertical-align: middle;\n",
       "    }\n",
       "\n",
       "    .dataframe tbody tr th {\n",
       "        vertical-align: top;\n",
       "    }\n",
       "\n",
       "    .dataframe thead th {\n",
       "        text-align: right;\n",
       "    }\n",
       "</style>\n",
       "<table border=\"1\" class=\"dataframe\">\n",
       "  <thead>\n",
       "    <tr style=\"text-align: right;\">\n",
       "      <th></th>\n",
       "      <th>park_alani_isimleri</th>\n",
       "      <th>park_alani_konumlari</th>\n",
       "    </tr>\n",
       "  </thead>\n",
       "  <tbody>\n",
       "    <tr>\n",
       "      <th>0</th>\n",
       "      <td>KAMPÜS 02A BOSNA HERSEK</td>\n",
       "      <td>38.00940102091862,32.51877984190408</td>\n",
       "    </tr>\n",
       "    <tr>\n",
       "      <th>1</th>\n",
       "      <td>KAMPÜS 02B BOSNA HERSEK</td>\n",
       "      <td>38.00947915130062,32.51938029678481</td>\n",
       "    </tr>\n",
       "    <tr>\n",
       "      <th>2</th>\n",
       "      <td>KAMPÜS 03 BUZLUKBAŞI</td>\n",
       "      <td>38.00250371121295,32.51973693158448</td>\n",
       "    </tr>\n",
       "    <tr>\n",
       "      <th>3</th>\n",
       "      <td>KAMPÜS 04 FIRAT CADDESİ</td>\n",
       "      <td>37.99464895249642,32.5184303520723</td>\n",
       "    </tr>\n",
       "    <tr>\n",
       "      <th>4</th>\n",
       "      <td>KAMPÜS 05 PİRİ REİS</td>\n",
       "      <td>37.98915648742838,32.51770962074744</td>\n",
       "    </tr>\n",
       "  </tbody>\n",
       "</table>\n",
       "</div>"
      ],
      "text/plain": [
       "       park_alani_isimleri                 park_alani_konumlari\n",
       "0  KAMPÜS 02A BOSNA HERSEK  38.00940102091862,32.51877984190408\n",
       "1  KAMPÜS 02B BOSNA HERSEK  38.00947915130062,32.51938029678481\n",
       "2     KAMPÜS 03 BUZLUKBAŞI  38.00250371121295,32.51973693158448\n",
       "3  KAMPÜS 04 FIRAT CADDESİ   37.99464895249642,32.5184303520723\n",
       "4      KAMPÜS 05 PİRİ REİS  37.98915648742838,32.51770962074744"
      ]
     },
     "execution_count": 75,
     "metadata": {},
     "output_type": "execute_result"
    }
   ],
   "source": [
    "bisiklet_konum_2.head()"
   ]
  },
  {
   "cell_type": "code",
   "execution_count": 76,
   "metadata": {},
   "outputs": [],
   "source": [
    "bisiklet_konum_2.to_csv(r\"C:\\Users\\terzi\\Desktop\\bisiklet-park-alanlari-ve-istasyonlarinin-konumlari\\csv\\bisiklet-park-alanlari-ve-istasyonlarinin-konumlari.csv\" ,index=False ,header=True)\n",
    "bisiklet_konum_2.to_excel(r\"C:\\Users\\terzi\\Desktop\\bisiklet-park-alanlari-ve-istasyonlarinin-konumlari\\xlsx\\bisiklet-park-alanlari-ve-istasyonlarinin-konumlari.xlsx\" ,index=False ,header=True)"
   ]
  },
  {
   "cell_type": "code",
   "execution_count": null,
   "metadata": {},
   "outputs": [],
   "source": []
  }
 ],
 "metadata": {
  "kernelspec": {
   "display_name": "Python 3",
   "language": "python",
   "name": "python3"
  },
  "language_info": {
   "codemirror_mode": {
    "name": "ipython",
    "version": 3
   },
   "file_extension": ".py",
   "mimetype": "text/x-python",
   "name": "python",
   "nbconvert_exporter": "python",
   "pygments_lexer": "ipython3",
   "version": "3.11.0"
  },
  "orig_nbformat": 4
 },
 "nbformat": 4,
 "nbformat_minor": 2
}
