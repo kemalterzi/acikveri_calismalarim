{
 "cells": [
  {
   "cell_type": "code",
   "execution_count": 18,
   "metadata": {},
   "outputs": [],
   "source": [
    "import pandas as pd\n",
    "import numpy as np"
   ]
  },
  {
   "cell_type": "code",
   "execution_count": 19,
   "metadata": {},
   "outputs": [],
   "source": [
    "atik_karatay=pd.read_csv(r'C:\\Users\\terzi\\Desktop\\temizlenecekler\\toplanan_atik_miktari_karatay\\139_202203_toplananatikmiktari_karatay.csv', sep=\";\")"
   ]
  },
  {
   "cell_type": "code",
   "execution_count": 39,
   "metadata": {},
   "outputs": [
    {
     "name": "stdout",
     "output_type": "stream",
     "text": [
      "<class 'pandas.core.frame.DataFrame'>\n",
      "RangeIndex: 1856 entries, 0 to 1855\n",
      "Data columns (total 2 columns):\n",
      " #   Column                       Non-Null Count  Dtype         \n",
      "---  ------                       --------------  -----         \n",
      " 0   tarih                        1856 non-null   datetime64[ns]\n",
      " 1   toplanan atik miktari (Ton)  1856 non-null   int32         \n",
      "dtypes: datetime64[ns](1), int32(1)\n",
      "memory usage: 21.9 KB\n"
     ]
    }
   ],
   "source": [
    "atik_karatay.info()"
   ]
  },
  {
   "cell_type": "code",
   "execution_count": 21,
   "metadata": {},
   "outputs": [],
   "source": [
    "atik_karatay=atik_karatay.drop(columns=[\"birim\"])"
   ]
  },
  {
   "cell_type": "code",
   "execution_count": 22,
   "metadata": {},
   "outputs": [],
   "source": [
    "atik_karatay=atik_karatay.rename(columns={\"deger\" : \"toplanan atik miktari (Ton)\"})"
   ]
  },
  {
   "cell_type": "code",
   "execution_count": 26,
   "metadata": {},
   "outputs": [],
   "source": [
    "atik_karatay[\"tarih\"]=pd.to_datetime(atik_karatay[\"tarih\"], format=\"%Y-%m-%d %H\")"
   ]
  },
  {
   "cell_type": "code",
   "execution_count": 31,
   "metadata": {},
   "outputs": [
    {
     "name": "stderr",
     "output_type": "stream",
     "text": [
      "C:\\Users\\terzi\\AppData\\Local\\Temp\\ipykernel_13132\\4223192114.py:1: FutureWarning: The default value of regex will change from True to False in a future version. In addition, single character regular expressions will *not* be treated as literal strings when regex=True.\n",
      "  atik_karatay[\"toplanan atik miktari (Ton)\"]=atik_karatay[\"toplanan atik miktari (Ton)\"].str.replace(\".\",\"\")\n"
     ]
    }
   ],
   "source": [
    "atik_karatay[\"toplanan atik miktari (Ton)\"]=atik_karatay[\"toplanan atik miktari (Ton)\"].str.replace(\".\",\"\")\n",
    "atik_karatay[\"toplanan atik miktari (Ton)\"]=atik_karatay[\"toplanan atik miktari (Ton)\"].str[:-3]"
   ]
  },
  {
   "cell_type": "code",
   "execution_count": 37,
   "metadata": {},
   "outputs": [
    {
     "data": {
      "text/plain": [
       "numpy.int32"
      ]
     },
     "execution_count": 37,
     "metadata": {},
     "output_type": "execute_result"
    }
   ],
   "source": [
    "type(atik_karatay[\"toplanan atik miktari (Ton)\"][1])"
   ]
  },
  {
   "cell_type": "code",
   "execution_count": 36,
   "metadata": {},
   "outputs": [],
   "source": [
    "atik_karatay[\"toplanan atik miktari (Ton)\"]=atik_karatay[\"toplanan atik miktari (Ton)\"].astype(int)"
   ]
  },
  {
   "cell_type": "code",
   "execution_count": 49,
   "metadata": {},
   "outputs": [
    {
     "data": {
      "text/html": [
       "<div>\n",
       "<style scoped>\n",
       "    .dataframe tbody tr th:only-of-type {\n",
       "        vertical-align: middle;\n",
       "    }\n",
       "\n",
       "    .dataframe tbody tr th {\n",
       "        vertical-align: top;\n",
       "    }\n",
       "\n",
       "    .dataframe thead th {\n",
       "        text-align: right;\n",
       "    }\n",
       "</style>\n",
       "<table border=\"1\" class=\"dataframe\">\n",
       "  <thead>\n",
       "    <tr style=\"text-align: right;\">\n",
       "      <th></th>\n",
       "      <th>tarih</th>\n",
       "      <th>toplanan atik miktari (Ton)</th>\n",
       "    </tr>\n",
       "  </thead>\n",
       "  <tbody>\n",
       "    <tr>\n",
       "      <th>9</th>\n",
       "      <td>2013-01-01</td>\n",
       "      <td>430</td>\n",
       "    </tr>\n",
       "    <tr>\n",
       "      <th>10</th>\n",
       "      <td>2013-02-01</td>\n",
       "      <td>370</td>\n",
       "    </tr>\n",
       "    <tr>\n",
       "      <th>11</th>\n",
       "      <td>2013-03-01</td>\n",
       "      <td>325</td>\n",
       "    </tr>\n",
       "    <tr>\n",
       "      <th>12</th>\n",
       "      <td>2013-04-01</td>\n",
       "      <td>337</td>\n",
       "    </tr>\n",
       "    <tr>\n",
       "      <th>13</th>\n",
       "      <td>2013-05-01</td>\n",
       "      <td>320</td>\n",
       "    </tr>\n",
       "    <tr>\n",
       "      <th>14</th>\n",
       "      <td>2013-06-01</td>\n",
       "      <td>307</td>\n",
       "    </tr>\n",
       "    <tr>\n",
       "      <th>15</th>\n",
       "      <td>2013-07-01</td>\n",
       "      <td>184</td>\n",
       "    </tr>\n",
       "    <tr>\n",
       "      <th>16</th>\n",
       "      <td>2013-08-01</td>\n",
       "      <td>386</td>\n",
       "    </tr>\n",
       "    <tr>\n",
       "      <th>17</th>\n",
       "      <td>2013-09-01</td>\n",
       "      <td>374</td>\n",
       "    </tr>\n",
       "  </tbody>\n",
       "</table>\n",
       "</div>"
      ],
      "text/plain": [
       "        tarih  toplanan atik miktari (Ton)\n",
       "9  2013-01-01                          430\n",
       "10 2013-02-01                          370\n",
       "11 2013-03-01                          325\n",
       "12 2013-04-01                          337\n",
       "13 2013-05-01                          320\n",
       "14 2013-06-01                          307\n",
       "15 2013-07-01                          184\n",
       "16 2013-08-01                          386\n",
       "17 2013-09-01                          374"
      ]
     },
     "execution_count": 49,
     "metadata": {},
     "output_type": "execute_result"
    }
   ],
   "source": [
    "atik_karatay.head(9)"
   ]
  },
  {
   "cell_type": "code",
   "execution_count": 48,
   "metadata": {},
   "outputs": [],
   "source": [
    "atik_karatay=atik_karatay.drop(atik_karatay.index[:9])"
   ]
  },
  {
   "cell_type": "code",
   "execution_count": 51,
   "metadata": {},
   "outputs": [],
   "source": [
    "atik_karatay.to_csv(r'C:\\Users\\terzi\\Desktop\\temizlenecekler\\toplanan_atik_miktari_karatay\\toplanan_atik_miktari_karatay.csv',index=False ,header=True)\n",
    "atik_karatay.to_excel(r'C:\\Users\\terzi\\Desktop\\temizlenecekler\\toplanan_atik_miktari_karatay\\toplanan_atik_miktari_karatay.xlsx',index=False ,header=True)"
   ]
  },
  {
   "cell_type": "code",
   "execution_count": 42,
   "metadata": {},
   "outputs": [],
   "source": [
    "ilk9=atik_karatay.head(9)"
   ]
  },
  {
   "cell_type": "code",
   "execution_count": 47,
   "metadata": {},
   "outputs": [],
   "source": [
    "ilk9.to_csv(r'C:\\Users\\terzi\\Desktop\\temizlenecekler\\toplanan_atik_miktari_karatay (2004-2012)\\toplanan_atik_miktari_karatay-(2004-2012).csv',index=False ,header=True)\n",
    "ilk9.to_excel(r'C:\\Users\\terzi\\Desktop\\temizlenecekler\\toplanan_atik_miktari_karatay (2004-2012)\\toplanan_atik_miktari_karatay-(2004-2012).xlsx',index=False ,header=True)"
   ]
  }
 ],
 "metadata": {
  "kernelspec": {
   "display_name": "Python 3",
   "language": "python",
   "name": "python3"
  },
  "language_info": {
   "codemirror_mode": {
    "name": "ipython",
    "version": 3
   },
   "file_extension": ".py",
   "mimetype": "text/x-python",
   "name": "python",
   "nbconvert_exporter": "python",
   "pygments_lexer": "ipython3",
   "version": "3.11.0"
  },
  "orig_nbformat": 4,
  "vscode": {
   "interpreter": {
    "hash": "b7a34504438d411b94b6653491ae8a2fe1304757ace0c5755d517e708d91f0bc"
   }
  }
 },
 "nbformat": 4,
 "nbformat_minor": 2
}
