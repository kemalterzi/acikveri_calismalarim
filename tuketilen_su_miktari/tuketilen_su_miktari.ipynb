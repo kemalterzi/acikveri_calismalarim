{
 "cells": [
  {
   "cell_type": "code",
   "execution_count": 92,
   "metadata": {},
   "outputs": [],
   "source": [
    "import pandas as pd\n",
    "import numpy as np"
   ]
  },
  {
   "cell_type": "code",
   "execution_count": 93,
   "metadata": {},
   "outputs": [],
   "source": [
    "tuketilen_su_miktari=pd.read_csv(r'C:\\Users\\terzi\\Desktop\\temizlenecekler\\tuketilen_su_miktari\\145_202204_tuketilensumiktari-1.csv', sep=\";\")"
   ]
  },
  {
   "cell_type": "code",
   "execution_count": 97,
   "metadata": {},
   "outputs": [
    {
     "name": "stdout",
     "output_type": "stream",
     "text": [
      "<class 'pandas.core.frame.DataFrame'>\n",
      "RangeIndex: 73 entries, 0 to 72\n",
      "Data columns (total 2 columns):\n",
      " #   Column                     Non-Null Count  Dtype \n",
      "---  ------                     --------------  ----- \n",
      " 0   tarih                      73 non-null     object\n",
      " 1   tuketilen su miktari (m3)  73 non-null     object\n",
      "dtypes: object(2)\n",
      "memory usage: 1.3+ KB\n"
     ]
    }
   ],
   "source": [
    "tuketilen_su_miktari.info()"
   ]
  },
  {
   "cell_type": "code",
   "execution_count": 95,
   "metadata": {},
   "outputs": [],
   "source": [
    "tuketilen_su_miktari = tuketilen_su_miktari.drop(columns=['birim'])"
   ]
  },
  {
   "cell_type": "code",
   "execution_count": 96,
   "metadata": {},
   "outputs": [],
   "source": [
    "tuketilen_su_miktari = tuketilen_su_miktari.rename(columns={'deger': 'tuketilen su miktari (m3)'})"
   ]
  },
  {
   "cell_type": "code",
   "execution_count": 99,
   "metadata": {},
   "outputs": [
    {
     "name": "stderr",
     "output_type": "stream",
     "text": [
      "C:\\Users\\terzi\\AppData\\Local\\Temp\\ipykernel_9192\\1875320926.py:1: FutureWarning: The default value of regex will change from True to False in a future version. In addition, single character regular expressions will *not* be treated as literal strings when regex=True.\n",
      "  tuketilen_su_miktari[\"tuketilen su miktari (m3)\"] = tuketilen_su_miktari[\"tuketilen su miktari (m3)\"].str.replace(\".\", \"\")\n"
     ]
    }
   ],
   "source": [
    "tuketilen_su_miktari[\"tuketilen su miktari (m3)\"] = tuketilen_su_miktari[\"tuketilen su miktari (m3)\"].str.replace(\".\", \"\")\n",
    "tuketilen_su_miktari[\"tuketilen su miktari (m3)\"] = tuketilen_su_miktari[\"tuketilen su miktari (m3)\"].str[:-3]"
   ]
  },
  {
   "cell_type": "code",
   "execution_count": 100,
   "metadata": {},
   "outputs": [],
   "source": [
    "tuketilen_su_miktari[\"tuketilen su miktari (m3)\"]=tuketilen_su_miktari[\"tuketilen su miktari (m3)\"].astype(int)"
   ]
  },
  {
   "cell_type": "code",
   "execution_count": 103,
   "metadata": {},
   "outputs": [
    {
     "data": {
      "text/html": [
       "<div>\n",
       "<style scoped>\n",
       "    .dataframe tbody tr th:only-of-type {\n",
       "        vertical-align: middle;\n",
       "    }\n",
       "\n",
       "    .dataframe tbody tr th {\n",
       "        vertical-align: top;\n",
       "    }\n",
       "\n",
       "    .dataframe thead th {\n",
       "        text-align: right;\n",
       "    }\n",
       "</style>\n",
       "<table border=\"1\" class=\"dataframe\">\n",
       "  <thead>\n",
       "    <tr style=\"text-align: right;\">\n",
       "      <th></th>\n",
       "      <th>tarih</th>\n",
       "      <th>tuketilen su miktari (m3)</th>\n",
       "    </tr>\n",
       "  </thead>\n",
       "  <tbody>\n",
       "    <tr>\n",
       "      <th>0</th>\n",
       "      <td>2004-12-31</td>\n",
       "      <td>42282067</td>\n",
       "    </tr>\n",
       "    <tr>\n",
       "      <th>1</th>\n",
       "      <td>2005-12-31</td>\n",
       "      <td>41561123</td>\n",
       "    </tr>\n",
       "    <tr>\n",
       "      <th>2</th>\n",
       "      <td>2006-12-31</td>\n",
       "      <td>44170976</td>\n",
       "    </tr>\n",
       "    <tr>\n",
       "      <th>3</th>\n",
       "      <td>2007-12-31</td>\n",
       "      <td>41617645</td>\n",
       "    </tr>\n",
       "    <tr>\n",
       "      <th>4</th>\n",
       "      <td>2008-12-31</td>\n",
       "      <td>43224677</td>\n",
       "    </tr>\n",
       "    <tr>\n",
       "      <th>5</th>\n",
       "      <td>2009-12-31</td>\n",
       "      <td>44286834</td>\n",
       "    </tr>\n",
       "    <tr>\n",
       "      <th>6</th>\n",
       "      <td>2010-12-31</td>\n",
       "      <td>46613468</td>\n",
       "    </tr>\n",
       "    <tr>\n",
       "      <th>7</th>\n",
       "      <td>2011-12-31</td>\n",
       "      <td>48932583</td>\n",
       "    </tr>\n",
       "    <tr>\n",
       "      <th>8</th>\n",
       "      <td>2012-12-31</td>\n",
       "      <td>52493964</td>\n",
       "    </tr>\n",
       "    <tr>\n",
       "      <th>9</th>\n",
       "      <td>2013-01-31</td>\n",
       "      <td>3634350</td>\n",
       "    </tr>\n",
       "  </tbody>\n",
       "</table>\n",
       "</div>"
      ],
      "text/plain": [
       "       tarih  tuketilen su miktari (m3)\n",
       "0 2004-12-31                   42282067\n",
       "1 2005-12-31                   41561123\n",
       "2 2006-12-31                   44170976\n",
       "3 2007-12-31                   41617645\n",
       "4 2008-12-31                   43224677\n",
       "5 2009-12-31                   44286834\n",
       "6 2010-12-31                   46613468\n",
       "7 2011-12-31                   48932583\n",
       "8 2012-12-31                   52493964\n",
       "9 2013-01-31                    3634350"
      ]
     },
     "execution_count": 103,
     "metadata": {},
     "output_type": "execute_result"
    }
   ],
   "source": [
    "tuketilen_su_miktari.head(10)"
   ]
  },
  {
   "cell_type": "code",
   "execution_count": 102,
   "metadata": {},
   "outputs": [],
   "source": [
    "tuketilen_su_miktari[\"tarih\"]=pd.to_datetime(tuketilen_su_miktari[\"tarih\"], format=\"%d.%m.%Y\")"
   ]
  },
  {
   "cell_type": "code",
   "execution_count": 105,
   "metadata": {},
   "outputs": [],
   "source": [
    "tuketilen_su_miktari.to_csv(r'C:\\Users\\terzi\\Desktop\\temizlenecekler\\tuketilen_su_miktari\\tuketilen_su_miktari_temiz.csv', index=False)\n",
    "tuketilen_su_miktari.to_excel(r'C:\\Users\\terzi\\Desktop\\temizlenecekler\\tuketilen_su_miktari\\tuketilen_su_miktari_temiz.xlsx', index=False)"
   ]
  }
 ],
 "metadata": {
  "kernelspec": {
   "display_name": "Python 3",
   "language": "python",
   "name": "python3"
  },
  "language_info": {
   "codemirror_mode": {
    "name": "ipython",
    "version": 3
   },
   "file_extension": ".py",
   "mimetype": "text/x-python",
   "name": "python",
   "nbconvert_exporter": "python",
   "pygments_lexer": "ipython3",
   "version": "3.11.0 (main, Oct 24 2022, 18:26:48) [MSC v.1933 64 bit (AMD64)]"
  },
  "orig_nbformat": 4,
  "vscode": {
   "interpreter": {
    "hash": "b7a34504438d411b94b6653491ae8a2fe1304757ace0c5755d517e708d91f0bc"
   }
  }
 },
 "nbformat": 4,
 "nbformat_minor": 2
}
