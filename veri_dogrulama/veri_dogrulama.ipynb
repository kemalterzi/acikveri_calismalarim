{
 "cells": [
  {
   "cell_type": "code",
   "execution_count": 1,
   "metadata": {},
   "outputs": [],
   "source": [
    "#kart tipine göre kullanım sayıları verisinde:\n",
    "#zabıta türünde kart sadece Şubat - 2022'den itibaren var\n",
    "#engelli refakatli kart sadece Ocak - 2020'den itibaren var"
   ]
  },
  {
   "cell_type": "code",
   "execution_count": 2,
   "metadata": {},
   "outputs": [],
   "source": [
    "import pandas as pd\n",
    "import numpy as np"
   ]
  },
  {
   "cell_type": "code",
   "execution_count": 3,
   "metadata": {},
   "outputs": [],
   "source": [
    "konyakart_turler = pd.read_csv(r\"C:\\Users\\terzi\\Desktop\\veri_dogrulama\\konyakart_turler.csv\" ,sep=\";\")"
   ]
  },
  {
   "cell_type": "code",
   "execution_count": 4,
   "metadata": {},
   "outputs": [
    {
     "name": "stdout",
     "output_type": "stream",
     "text": [
      "<class 'pandas.core.frame.DataFrame'>\n",
      "RangeIndex: 623 entries, 0 to 622\n",
      "Data columns (total 4 columns):\n",
      " #   Column                Non-Null Count  Dtype \n",
      "---  ------                --------------  ----- \n",
      " 0   yıl                   623 non-null    int64 \n",
      " 1   ay                    623 non-null    object\n",
      " 2   kart_tipi             623 non-null    object\n",
      " 3   kart_kullanim_sayisi  623 non-null    int64 \n",
      "dtypes: int64(2), object(2)\n",
      "memory usage: 19.6+ KB\n"
     ]
    }
   ],
   "source": [
    "konyakart_turler.info()"
   ]
  },
  {
   "cell_type": "code",
   "execution_count": 5,
   "metadata": {},
   "outputs": [
    {
     "data": {
      "text/html": [
       "<div>\n",
       "<style scoped>\n",
       "    .dataframe tbody tr th:only-of-type {\n",
       "        vertical-align: middle;\n",
       "    }\n",
       "\n",
       "    .dataframe tbody tr th {\n",
       "        vertical-align: top;\n",
       "    }\n",
       "\n",
       "    .dataframe thead th {\n",
       "        text-align: right;\n",
       "    }\n",
       "</style>\n",
       "<table border=\"1\" class=\"dataframe\">\n",
       "  <thead>\n",
       "    <tr style=\"text-align: right;\">\n",
       "      <th></th>\n",
       "      <th>yıl</th>\n",
       "      <th>ay</th>\n",
       "      <th>kart_tipi</th>\n",
       "      <th>kart_kullanim_sayisi</th>\n",
       "    </tr>\n",
       "  </thead>\n",
       "  <tbody>\n",
       "    <tr>\n",
       "      <th>0</th>\n",
       "      <td>2019</td>\n",
       "      <td>ocak</td>\n",
       "      <td>65 YAŞ ÜSTÜ</td>\n",
       "      <td>510326</td>\n",
       "    </tr>\n",
       "    <tr>\n",
       "      <th>1</th>\n",
       "      <td>2019</td>\n",
       "      <td>ocak</td>\n",
       "      <td>DİĞER</td>\n",
       "      <td>370107</td>\n",
       "    </tr>\n",
       "    <tr>\n",
       "      <th>2</th>\n",
       "      <td>2019</td>\n",
       "      <td>ocak</td>\n",
       "      <td>BASIN</td>\n",
       "      <td>7670</td>\n",
       "    </tr>\n",
       "    <tr>\n",
       "      <th>3</th>\n",
       "      <td>2019</td>\n",
       "      <td>ocak</td>\n",
       "      <td>ENGELLİ</td>\n",
       "      <td>79</td>\n",
       "    </tr>\n",
       "    <tr>\n",
       "      <th>4</th>\n",
       "      <td>2019</td>\n",
       "      <td>ocak</td>\n",
       "      <td>GÖRME ENGELLİ</td>\n",
       "      <td>1434</td>\n",
       "    </tr>\n",
       "  </tbody>\n",
       "</table>\n",
       "</div>"
      ],
      "text/plain": [
       "    yıl    ay      kart_tipi  kart_kullanim_sayisi\n",
       "0  2019  ocak    65 YAŞ ÜSTÜ                510326\n",
       "1  2019  ocak          DİĞER                370107\n",
       "2  2019  ocak          BASIN                  7670\n",
       "3  2019  ocak        ENGELLİ                    79\n",
       "4  2019  ocak  GÖRME ENGELLİ                  1434"
      ]
     },
     "execution_count": 5,
     "metadata": {},
     "output_type": "execute_result"
    }
   ],
   "source": [
    "konyakart_turler.head()"
   ]
  },
  {
   "cell_type": "code",
   "execution_count": 6,
   "metadata": {},
   "outputs": [],
   "source": [
    "selected_rows_yeni = konyakart_turler[konyakart_turler['yıl'] == 2019]"
   ]
  },
  {
   "cell_type": "code",
   "execution_count": 7,
   "metadata": {},
   "outputs": [],
   "source": [
    "toplam_yeni = selected_rows_yeni['kart_kullanim_sayisi'].sum()"
   ]
  },
  {
   "cell_type": "code",
   "execution_count": 8,
   "metadata": {},
   "outputs": [],
   "source": [
    "elkart_binis_2019_temizlenmis = pd.read_excel(r\"C:\\Users\\terzi\\Desktop\\veri_dogrulama\\elkart_binis_2019.xlsx\")"
   ]
  },
  {
   "cell_type": "code",
   "execution_count": 9,
   "metadata": {},
   "outputs": [
    {
     "name": "stdout",
     "output_type": "stream",
     "text": [
      "<class 'pandas.core.frame.DataFrame'>\n",
      "RangeIndex: 886722 entries, 0 to 886721\n",
      "Data columns (total 4 columns):\n",
      " #   Column        Non-Null Count   Dtype         \n",
      "---  ------        --------------   -----         \n",
      " 0   tarih_saat    886722 non-null  datetime64[ns]\n",
      " 1   hat_no        886722 non-null  int64         \n",
      " 2   alt_hat_no    886722 non-null  int64         \n",
      " 3   binis_sayisi  886722 non-null  int64         \n",
      "dtypes: datetime64[ns](1), int64(3)\n",
      "memory usage: 27.1 MB\n"
     ]
    }
   ],
   "source": [
    "elkart_binis_2019_temizlenmis.info()"
   ]
  },
  {
   "cell_type": "code",
   "execution_count": 10,
   "metadata": {},
   "outputs": [
    {
     "data": {
      "text/html": [
       "<div>\n",
       "<style scoped>\n",
       "    .dataframe tbody tr th:only-of-type {\n",
       "        vertical-align: middle;\n",
       "    }\n",
       "\n",
       "    .dataframe tbody tr th {\n",
       "        vertical-align: top;\n",
       "    }\n",
       "\n",
       "    .dataframe thead th {\n",
       "        text-align: right;\n",
       "    }\n",
       "</style>\n",
       "<table border=\"1\" class=\"dataframe\">\n",
       "  <thead>\n",
       "    <tr style=\"text-align: right;\">\n",
       "      <th></th>\n",
       "      <th>tarih_saat</th>\n",
       "      <th>hat_no</th>\n",
       "      <th>alt_hat_no</th>\n",
       "      <th>binis_sayisi</th>\n",
       "    </tr>\n",
       "  </thead>\n",
       "  <tbody>\n",
       "    <tr>\n",
       "      <th>0</th>\n",
       "      <td>2019-01-01 00:00:00</td>\n",
       "      <td>1</td>\n",
       "      <td>0</td>\n",
       "      <td>53</td>\n",
       "    </tr>\n",
       "    <tr>\n",
       "      <th>1</th>\n",
       "      <td>2019-01-01 06:00:00</td>\n",
       "      <td>1</td>\n",
       "      <td>0</td>\n",
       "      <td>9</td>\n",
       "    </tr>\n",
       "    <tr>\n",
       "      <th>2</th>\n",
       "      <td>2019-01-01 07:00:00</td>\n",
       "      <td>1</td>\n",
       "      <td>0</td>\n",
       "      <td>59</td>\n",
       "    </tr>\n",
       "    <tr>\n",
       "      <th>3</th>\n",
       "      <td>2019-01-01 08:00:00</td>\n",
       "      <td>1</td>\n",
       "      <td>0</td>\n",
       "      <td>49</td>\n",
       "    </tr>\n",
       "    <tr>\n",
       "      <th>4</th>\n",
       "      <td>2019-01-01 09:00:00</td>\n",
       "      <td>1</td>\n",
       "      <td>0</td>\n",
       "      <td>85</td>\n",
       "    </tr>\n",
       "  </tbody>\n",
       "</table>\n",
       "</div>"
      ],
      "text/plain": [
       "           tarih_saat  hat_no  alt_hat_no  binis_sayisi\n",
       "0 2019-01-01 00:00:00       1           0            53\n",
       "1 2019-01-01 06:00:00       1           0             9\n",
       "2 2019-01-01 07:00:00       1           0            59\n",
       "3 2019-01-01 08:00:00       1           0            49\n",
       "4 2019-01-01 09:00:00       1           0            85"
      ]
     },
     "execution_count": 10,
     "metadata": {},
     "output_type": "execute_result"
    }
   ],
   "source": [
    "elkart_binis_2019_temizlenmis.head()"
   ]
  },
  {
   "cell_type": "code",
   "execution_count": 11,
   "metadata": {},
   "outputs": [],
   "source": [
    "toplam_eski = elkart_binis_2019_temizlenmis['binis_sayisi'].sum()"
   ]
  },
  {
   "cell_type": "code",
   "execution_count": 12,
   "metadata": {},
   "outputs": [],
   "source": [
    "fark = toplam_yeni - toplam_eski"
   ]
  },
  {
   "cell_type": "code",
   "execution_count": 13,
   "metadata": {},
   "outputs": [
    {
     "name": "stdout",
     "output_type": "stream",
     "text": [
      "Yeni veriye göre 2019 yılındaki kart kullanım sayısı toplamı: 87440892\n"
     ]
    }
   ],
   "source": [
    "print(\"Yeni veriye göre 2019 yılındaki kart kullanım sayısı toplamı:\", toplam_yeni)"
   ]
  },
  {
   "cell_type": "code",
   "execution_count": 14,
   "metadata": {},
   "outputs": [
    {
     "name": "stdout",
     "output_type": "stream",
     "text": [
      "Eski veriye göre 2019 yılındaki kart kullanım sayısı toplamı: 87388728\n"
     ]
    }
   ],
   "source": [
    "print(\"Eski veriye göre 2019 yılındaki kart kullanım sayısı toplamı:\", toplam_eski)"
   ]
  },
  {
   "cell_type": "code",
   "execution_count": 15,
   "metadata": {},
   "outputs": [
    {
     "name": "stdout",
     "output_type": "stream",
     "text": [
      "Aradaki fark: 52164\n"
     ]
    }
   ],
   "source": [
    "print(\"Aradaki fark:\", fark)"
   ]
  },
  {
   "cell_type": "code",
   "execution_count": 16,
   "metadata": {},
   "outputs": [],
   "source": [
    "agustos_eski = elkart_binis_2019_temizlenmis[elkart_binis_2019_temizlenmis['tarih_saat'].dt.month == 8]\n",
    "toplam_agustos_eski = agustos_eski['binis_sayisi'].sum()\n",
    "selected_rows_yeni_agustos = selected_rows_yeni[selected_rows_yeni['ay'] == 'agustos']\n",
    "toplam_yeni_agustos = selected_rows_yeni_agustos['kart_kullanim_sayisi'].sum()\n",
    "fark_agustos = toplam_yeni_agustos - toplam_agustos_eski"
   ]
  },
  {
   "cell_type": "code",
   "execution_count": 70,
   "metadata": {},
   "outputs": [],
   "source": [
    "temmuz_eski = elkart_binis_2019_temizlenmis[elkart_binis_2019_temizlenmis['tarih_saat'].dt.month == 7]"
   ]
  },
  {
   "cell_type": "code",
   "execution_count": 71,
   "metadata": {},
   "outputs": [],
   "source": [
    "toplam_temmuz_eski = temmuz_eski['binis_sayisi'].sum()"
   ]
  },
  {
   "cell_type": "code",
   "execution_count": 72,
   "metadata": {},
   "outputs": [
    {
     "data": {
      "text/plain": [
       "5787089"
      ]
     },
     "execution_count": 72,
     "metadata": {},
     "output_type": "execute_result"
    }
   ],
   "source": [
    "toplam_temmuz_eski"
   ]
  },
  {
   "cell_type": "code",
   "execution_count": 73,
   "metadata": {},
   "outputs": [],
   "source": [
    "selected_rows_yeni_temmuz = selected_rows_yeni[selected_rows_yeni['ay'] == 'temmuz']"
   ]
  },
  {
   "cell_type": "code",
   "execution_count": 74,
   "metadata": {},
   "outputs": [],
   "source": [
    "toplam_yeni_temmuz = selected_rows_yeni_temmuz['kart_kullanim_sayisi'].sum()"
   ]
  },
  {
   "cell_type": "code",
   "execution_count": 75,
   "metadata": {},
   "outputs": [
    {
     "data": {
      "text/plain": [
       "5790174"
      ]
     },
     "execution_count": 75,
     "metadata": {},
     "output_type": "execute_result"
    }
   ],
   "source": [
    "toplam_yeni_temmuz"
   ]
  },
  {
   "cell_type": "code",
   "execution_count": 76,
   "metadata": {},
   "outputs": [],
   "source": [
    "fark_temmuz = toplam_yeni_temmuz - toplam_temmuz_eski"
   ]
  },
  {
   "cell_type": "code",
   "execution_count": 34,
   "metadata": {},
   "outputs": [
    {
     "name": "stdout",
     "output_type": "stream",
     "text": [
      "Ocak ayları arasındaki fark: 4656\n"
     ]
    }
   ],
   "source": [
    "print(\"Ocak ayları arasındaki fark:\", fark_ocak)"
   ]
  },
  {
   "cell_type": "code",
   "execution_count": 42,
   "metadata": {},
   "outputs": [
    {
     "name": "stdout",
     "output_type": "stream",
     "text": [
      "Şubat ayları arasındaki fark: 4003\n"
     ]
    }
   ],
   "source": [
    "print(\"Şubat ayları arasındaki fark:\", fark_subat)"
   ]
  },
  {
   "cell_type": "code",
   "execution_count": 52,
   "metadata": {},
   "outputs": [
    {
     "name": "stdout",
     "output_type": "stream",
     "text": [
      "Mart ayları arasındaki fark: 5074\n"
     ]
    }
   ],
   "source": [
    "print(\"Mart ayları arasındaki fark:\", fark_mart)"
   ]
  },
  {
   "cell_type": "code",
   "execution_count": 61,
   "metadata": {},
   "outputs": [
    {
     "name": "stdout",
     "output_type": "stream",
     "text": [
      "Nisan ayları arasındaki fark: 4014\n"
     ]
    }
   ],
   "source": [
    "print(\"Nisan ayları arasındaki fark:\", fark_nisan)"
   ]
  },
  {
   "cell_type": "code",
   "execution_count": 69,
   "metadata": {},
   "outputs": [
    {
     "name": "stdout",
     "output_type": "stream",
     "text": [
      "Mayıs ayları arasındaki fark: 4033\n"
     ]
    }
   ],
   "source": [
    "print(\"Mayıs ayları arasındaki fark:\", fark_mayis)"
   ]
  },
  {
   "cell_type": "code",
   "execution_count": 25,
   "metadata": {},
   "outputs": [
    {
     "name": "stdout",
     "output_type": "stream",
     "text": [
      "Haziran ayları arasındaki fark: 2587\n"
     ]
    }
   ],
   "source": [
    "print(\"Haziran ayları arasındaki fark:\", fark_haziran)"
   ]
  },
  {
   "cell_type": "code",
   "execution_count": 77,
   "metadata": {},
   "outputs": [
    {
     "name": "stdout",
     "output_type": "stream",
     "text": [
      "Temmuz ayları arasındaki fark: 3085\n"
     ]
    }
   ],
   "source": [
    "print(\"Temmuz ayları arasındaki fark:\", fark_temmuz)"
   ]
  },
  {
   "cell_type": "code",
   "execution_count": 17,
   "metadata": {},
   "outputs": [
    {
     "name": "stdout",
     "output_type": "stream",
     "text": [
      "Ağustos ayları arasındaki fark: 2517\n"
     ]
    }
   ],
   "source": [
    "print(\"Ağustos ayları arasındaki fark:\", fark_agustos)"
   ]
  }
 ],
 "metadata": {
  "kernelspec": {
   "display_name": "Python 3",
   "language": "python",
   "name": "python3"
  },
  "language_info": {
   "codemirror_mode": {
    "name": "ipython",
    "version": 3
   },
   "file_extension": ".py",
   "mimetype": "text/x-python",
   "name": "python",
   "nbconvert_exporter": "python",
   "pygments_lexer": "ipython3",
   "version": "3.11.0"
  },
  "orig_nbformat": 4
 },
 "nbformat": 4,
 "nbformat_minor": 2
}
