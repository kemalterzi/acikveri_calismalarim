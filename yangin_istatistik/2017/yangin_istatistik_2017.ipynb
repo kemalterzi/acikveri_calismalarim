{
 "cells": [
  {
   "cell_type": "code",
   "execution_count": 12,
   "metadata": {},
   "outputs": [],
   "source": [
    "import pandas as pd\n",
    "import numpy as np"
   ]
  },
  {
   "cell_type": "code",
   "execution_count": 13,
   "metadata": {},
   "outputs": [],
   "source": [
    "yangin_istatistik=pd.read_csv(r'C:\\Users\\terzi\\Desktop\\TEMİZ\\yangin_istatistik\\2017\\142_202203_2017yanginistatistik.csv', sep=\";\")"
   ]
  },
  {
   "cell_type": "code",
   "execution_count": 14,
   "metadata": {},
   "outputs": [
    {
     "data": {
      "text/html": [
       "<div>\n",
       "<style scoped>\n",
       "    .dataframe tbody tr th:only-of-type {\n",
       "        vertical-align: middle;\n",
       "    }\n",
       "\n",
       "    .dataframe tbody tr th {\n",
       "        vertical-align: top;\n",
       "    }\n",
       "\n",
       "    .dataframe thead th {\n",
       "        text-align: right;\n",
       "    }\n",
       "</style>\n",
       "<table border=\"1\" class=\"dataframe\">\n",
       "  <thead>\n",
       "    <tr style=\"text-align: right;\">\n",
       "      <th></th>\n",
       "      <th>ilceler</th>\n",
       "      <th>elk._kontak</th>\n",
       "      <th>lpg_d.gaz_vb.</th>\n",
       "      <th>ocak_sob._kalo._kaz.</th>\n",
       "      <th>baca_tut.</th>\n",
       "      <th>sig._ve_kibr.</th>\n",
       "      <th>akary.</th>\n",
       "      <th>pat._madd.</th>\n",
       "      <th>yıld._dus.</th>\n",
       "      <th>sabotaj</th>\n",
       "      <th>diger</th>\n",
       "      <th>anlasılamadı</th>\n",
       "      <th>tplm</th>\n",
       "    </tr>\n",
       "  </thead>\n",
       "  <tbody>\n",
       "    <tr>\n",
       "      <th>0</th>\n",
       "      <td>SELÇUKLU</td>\n",
       "      <td>155</td>\n",
       "      <td>7</td>\n",
       "      <td>20</td>\n",
       "      <td>25</td>\n",
       "      <td>533</td>\n",
       "      <td>15</td>\n",
       "      <td>0</td>\n",
       "      <td>0</td>\n",
       "      <td>18</td>\n",
       "      <td>31</td>\n",
       "      <td>0</td>\n",
       "      <td>804</td>\n",
       "    </tr>\n",
       "    <tr>\n",
       "      <th>1</th>\n",
       "      <td>MERAM</td>\n",
       "      <td>133</td>\n",
       "      <td>4</td>\n",
       "      <td>34</td>\n",
       "      <td>17</td>\n",
       "      <td>301</td>\n",
       "      <td>4</td>\n",
       "      <td>1</td>\n",
       "      <td>0</td>\n",
       "      <td>7</td>\n",
       "      <td>16</td>\n",
       "      <td>0</td>\n",
       "      <td>517</td>\n",
       "    </tr>\n",
       "    <tr>\n",
       "      <th>2</th>\n",
       "      <td>KARATAY</td>\n",
       "      <td>75</td>\n",
       "      <td>11</td>\n",
       "      <td>18</td>\n",
       "      <td>24</td>\n",
       "      <td>441</td>\n",
       "      <td>3</td>\n",
       "      <td>0</td>\n",
       "      <td>0</td>\n",
       "      <td>15</td>\n",
       "      <td>23</td>\n",
       "      <td>0</td>\n",
       "      <td>610</td>\n",
       "    </tr>\n",
       "    <tr>\n",
       "      <th>3</th>\n",
       "      <td>SANCAK</td>\n",
       "      <td>0</td>\n",
       "      <td>0</td>\n",
       "      <td>0</td>\n",
       "      <td>0</td>\n",
       "      <td>0</td>\n",
       "      <td>0</td>\n",
       "      <td>0</td>\n",
       "      <td>0</td>\n",
       "      <td>0</td>\n",
       "      <td>0</td>\n",
       "      <td>0</td>\n",
       "      <td>0</td>\n",
       "    </tr>\n",
       "    <tr>\n",
       "      <th>4</th>\n",
       "      <td>AKÖREN</td>\n",
       "      <td>2</td>\n",
       "      <td>0</td>\n",
       "      <td>0</td>\n",
       "      <td>2</td>\n",
       "      <td>24</td>\n",
       "      <td>0</td>\n",
       "      <td>0</td>\n",
       "      <td>0</td>\n",
       "      <td>0</td>\n",
       "      <td>7</td>\n",
       "      <td>0</td>\n",
       "      <td>35</td>\n",
       "    </tr>\n",
       "  </tbody>\n",
       "</table>\n",
       "</div>"
      ],
      "text/plain": [
       "    ilceler  elk._kontak  lpg_d.gaz_vb.  ocak_sob._kalo._kaz.  baca_tut.  \\\n",
       "0  SELÇUKLU          155              7                    20         25   \n",
       "1     MERAM          133              4                    34         17   \n",
       "2   KARATAY           75             11                    18         24   \n",
       "3    SANCAK            0              0                     0          0   \n",
       "4    AKÖREN            2              0                     0          2   \n",
       "\n",
       "   sig._ve_kibr.  akary.  pat._madd.  yıld._dus.  sabotaj  diger  \\\n",
       "0            533      15           0           0       18     31   \n",
       "1            301       4           1           0        7     16   \n",
       "2            441       3           0           0       15     23   \n",
       "3              0       0           0           0        0      0   \n",
       "4             24       0           0           0        0      7   \n",
       "\n",
       "   anlasılamadı  tplm  \n",
       "0             0   804  \n",
       "1             0   517  \n",
       "2             0   610  \n",
       "3             0     0  \n",
       "4             0    35  "
      ]
     },
     "execution_count": 14,
     "metadata": {},
     "output_type": "execute_result"
    }
   ],
   "source": [
    "yangin_istatistik.head()"
   ]
  },
  {
   "cell_type": "code",
   "execution_count": 15,
   "metadata": {},
   "outputs": [],
   "source": [
    "yangin_istatistik = yangin_istatistik.rename(columns={'elk._kontak': 'elektrik_kontagi', 'lpg_d.gaz_vb.': 'lpg/dogalgaz', 'ocak_sob._kalo._kaz.': 'ocak/soba/kalorifer/kazan', 'baca_tut.': 'baca_tutusmasi', 'sig._ve_kibr.': 'sigara/kibrit', 'akary.': 'akaryakit', 'pat._madd.': 'patlayici_madde', 'yıld._dus.': 'yildirim_dusmesi', 'anlasılamadı': 'anlasilamadi', 'tplm': 'toplam'})"
   ]
  },
  {
   "cell_type": "code",
   "execution_count": 17,
   "metadata": {},
   "outputs": [],
   "source": [
    "a=yangin_istatistik[\"elektrik_kontagi\"]\n",
    "b=yangin_istatistik[\"lpg/dogalgaz\"]\n",
    "c=yangin_istatistik[\"ocak/soba/kalorifer/kazan\"]\n",
    "d=yangin_istatistik[\"baca_tutusmasi\"]\n",
    "e=yangin_istatistik[\"sigara/kibrit\"]\n",
    "f=yangin_istatistik[\"akaryakit\"]\n",
    "g=yangin_istatistik[\"patlayici_madde\"]\n",
    "h=yangin_istatistik[\"yildirim_dusmesi\"]\n",
    "i=yangin_istatistik[\"sabotaj\"]\n",
    "j=yangin_istatistik[\"diger\"]\n",
    "k=yangin_istatistik[\"anlasilamadi\"]\n",
    "l=yangin_istatistik[\"toplam\"]\n",
    "\n",
    "toplam_saglama=a+b+c+d+e+f+g+h+i+j+k==l\n",
    "toplam_saglama.head(50)"
   ]
  },
  {
   "cell_type": "code",
   "execution_count": 18,
   "metadata": {},
   "outputs": [],
   "source": [
    "yangin_istatistik.to_csv(r\"C:\\Users\\terzi\\Desktop\\yangin_istatistik\\2017\\csv\\yangin_sayi_ve_sebepleri_2017.csv\" ,index=False ,header=True)\n",
    "yangin_istatistik.to_excel(r\"C:\\Users\\terzi\\Desktop\\yangin_istatistik\\2017\\excel\\yangin_sayi_ve_sebepleri_2017.xlsx\" ,index=False ,header=True)"
   ]
  },
  {
   "cell_type": "code",
   "execution_count": null,
   "metadata": {},
   "outputs": [],
   "source": []
  }
 ],
 "metadata": {
  "kernelspec": {
   "display_name": "Python 3",
   "language": "python",
   "name": "python3"
  },
  "language_info": {
   "codemirror_mode": {
    "name": "ipython",
    "version": 3
   },
   "file_extension": ".py",
   "mimetype": "text/x-python",
   "name": "python",
   "nbconvert_exporter": "python",
   "pygments_lexer": "ipython3",
   "version": "3.11.0"
  },
  "orig_nbformat": 4,
  "vscode": {
   "interpreter": {
    "hash": "b7a34504438d411b94b6653491ae8a2fe1304757ace0c5755d517e708d91f0bc"
   }
  }
 },
 "nbformat": 4,
 "nbformat_minor": 2
}
